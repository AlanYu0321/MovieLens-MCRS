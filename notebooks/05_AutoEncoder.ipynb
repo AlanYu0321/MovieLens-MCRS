{
 "cells": [
  {
   "cell_type": "markdown",
   "id": "302f9dbd",
   "metadata": {},
   "source": [
    "\n",
    "### 05 — AutoEncoder for Collaborative Filtering\n",
    "Train a denoising autoencoder on the user–movie rating matrix to learn dense representations and produce recommendations.\n"
   ]
  },
  {
   "cell_type": "code",
   "execution_count": 1,
   "id": "4a33a1ef",
   "metadata": {},
   "outputs": [
    {
     "name": "stdout",
     "output_type": "stream",
     "text": [
      "Using device: cpu\n"
     ]
    }
   ],
   "source": [
    "from pathlib import Path\n",
    "import sys\n",
    "\n",
    "import math\n",
    "import numpy as np\n",
    "import pandas as pd\n",
    "import torch\n",
    "import torch.nn as nn\n",
    "from torch.utils.data import DataLoader\n",
    "import matplotlib.pyplot as plt\n",
    "from IPython.display import display\n",
    "\n",
    "BASE = Path.cwd() if Path.cwd().name != 'notebooks' else Path.cwd().parent\n",
    "if str(BASE) not in sys.path:\n",
    "    sys.path.append(str(BASE))\n",
    "if str(BASE / 'src') not in sys.path:\n",
    "    sys.path.append(str(BASE / 'src'))\n",
    "\n",
    "from src.autoencoder_model import (\n",
    "    encode_dense_splits,\n",
    "    AutoEncoderDataset,\n",
    "    build_autoencoder,\n",
    "    run_epoch,\n",
    "    build_seen_items,\n",
    "    recommend_topk,\n",
    ")\n",
    "\n",
    "PROC = BASE / 'data' / 'processed'\n",
    "MODELS = BASE / 'models'\n",
    "MODELS.mkdir(exist_ok=True)\n",
    "\n",
    "device = torch.device('cuda' if torch.cuda.is_available() else 'cpu')\n",
    "print('Using device:', device)\n"
   ]
  },
  {
   "cell_type": "code",
   "execution_count": 2,
   "id": "25925b7f",
   "metadata": {},
   "outputs": [
    {
     "name": "stdout",
     "output_type": "stream",
     "text": [
      "train -> shape=(31316, 7)  users=479  items=426\n",
      "valid -> shape=(3669, 7)  users=479  items=426\n",
      " test -> shape=(3669, 7)  users=479  items=426\n"
     ]
    }
   ],
   "source": [
    "\n",
    "train_df = pd.read_csv(PROC / \"ratings_train.csv\")\n",
    "valid_df = pd.read_csv(PROC / \"ratings_valid.csv\")\n",
    "test_df  = pd.read_csv(PROC / \"ratings_test.csv\")\n",
    "\n",
    "for name, df in [(\"train\", train_df), (\"valid\", valid_df), (\"test\", test_df)]:\n",
    "    print(f\"{name:>5} -> shape={df.shape}  users={df.userId.nunique()}  items={df.movieId.nunique()}\")\n"
   ]
  },
  {
   "cell_type": "code",
   "execution_count": 3,
   "id": "4658f808",
   "metadata": {},
   "outputs": [
    {
     "name": "stdout",
     "output_type": "stream",
     "text": [
      "Matrix shape: (479, 426) train density: 0.1535\n"
     ]
    }
   ],
   "source": [
    "train_mat, train_mask, valid_mat, valid_mask, test_mat, test_mask, user2idx, item2idx = encode_dense_splits(train_df, valid_df, test_df)\n",
    "print('Matrix shape:', train_mat.shape, 'train density:', round(float(train_mask.mean()), 4))\n"
   ]
  },
  {
   "cell_type": "code",
   "execution_count": 4,
   "id": "d6a18fb1",
   "metadata": {},
   "outputs": [],
   "source": [
    "BATCH_SIZE = 64\n",
    "train_loader = DataLoader(AutoEncoderDataset(train_mat, train_mask), batch_size=BATCH_SIZE, shuffle=True)\n",
    "valid_loader = DataLoader(AutoEncoderDataset(valid_mat, valid_mask), batch_size=BATCH_SIZE, shuffle=False)\n",
    "test_loader = DataLoader(AutoEncoderDataset(test_mat, test_mask), batch_size=BATCH_SIZE, shuffle=False)\n"
   ]
  },
  {
   "cell_type": "code",
   "execution_count": 5,
   "id": "a6adbcf9",
   "metadata": {},
   "outputs": [],
   "source": [
    "model = build_autoencoder(n_items=train_mat.shape[1], hidden_dims=(512, 256, 128), dropout=0.25, device=device)\n",
    "optimizer = torch.optim.Adam(model.parameters(), lr=1e-3, weight_decay=1e-5)\n"
   ]
  },
  {
   "cell_type": "code",
   "execution_count": 6,
   "id": "43b81045",
   "metadata": {},
   "outputs": [
    {
     "name": "stdout",
     "output_type": "stream",
     "text": [
      "Epoch 01 | train RMSE=2.7385  valid RMSE=2.1027  valid MAE=1.7228\n",
      "Epoch 02 | train RMSE=1.8565  valid RMSE=1.7423  valid MAE=1.3990\n",
      "Epoch 03 | train RMSE=1.7405  valid RMSE=1.7520  valid MAE=1.4105\n",
      "Epoch 04 | train RMSE=1.7226  valid RMSE=1.7585  valid MAE=1.4170\n",
      "Epoch 05 | train RMSE=1.7040  valid RMSE=1.7478  valid MAE=1.4096\n",
      "Epoch 06 | train RMSE=1.6840  valid RMSE=1.7428  valid MAE=1.4047\n",
      "Epoch 07 | train RMSE=1.6776  valid RMSE=1.7402  valid MAE=1.4031\n",
      "Epoch 08 | train RMSE=1.6714  valid RMSE=1.7385  valid MAE=1.4006\n",
      "Epoch 09 | train RMSE=1.6597  valid RMSE=1.7405  valid MAE=1.4032\n",
      "Epoch 10 | train RMSE=1.6607  valid RMSE=1.7405  valid MAE=1.4032\n",
      "Epoch 11 | train RMSE=1.6603  valid RMSE=1.7342  valid MAE=1.3988\n",
      "Epoch 12 | train RMSE=1.6579  valid RMSE=1.7358  valid MAE=1.3997\n",
      "Epoch 13 | train RMSE=1.6593  valid RMSE=1.7364  valid MAE=1.4003\n",
      "Epoch 14 | train RMSE=1.6596  valid RMSE=1.7363  valid MAE=1.4001\n",
      "Epoch 15 | train RMSE=1.6596  valid RMSE=1.7363  valid MAE=1.4000\n",
      "Epoch 16 | train RMSE=1.6589  valid RMSE=1.7362  valid MAE=1.3999\n",
      "Epoch 17 | train RMSE=1.6596  valid RMSE=1.7364  valid MAE=1.4002\n",
      "Epoch 18 | train RMSE=1.6607  valid RMSE=1.7441  valid MAE=1.4061\n",
      "Epoch 19 | train RMSE=1.6630  valid RMSE=1.7441  valid MAE=1.4061\n",
      "Epoch 20 | train RMSE=1.6633  valid RMSE=1.7439  valid MAE=1.4059\n",
      "Epoch 21 | train RMSE=1.6631  valid RMSE=1.7438  valid MAE=1.4056\n",
      "Epoch 22 | train RMSE=1.6636  valid RMSE=1.7407  valid MAE=1.4037\n",
      "Epoch 23 | train RMSE=1.6591  valid RMSE=1.7391  valid MAE=1.4023\n",
      "Epoch 24 | train RMSE=1.6578  valid RMSE=1.7392  valid MAE=1.4023\n",
      "Epoch 25 | train RMSE=1.6580  valid RMSE=1.7392  valid MAE=1.4023\n",
      "Epoch 26 | train RMSE=1.6578  valid RMSE=1.7393  valid MAE=1.4023\n",
      "Epoch 27 | train RMSE=1.6584  valid RMSE=1.7392  valid MAE=1.4024\n",
      "Epoch 28 | train RMSE=1.6585  valid RMSE=1.7392  valid MAE=1.4023\n",
      "Epoch 29 | train RMSE=1.6577  valid RMSE=1.7390  valid MAE=1.4020\n",
      "Epoch 30 | train RMSE=1.6579  valid RMSE=1.7392  valid MAE=1.4023\n",
      "Epoch 31 | train RMSE=1.6580  valid RMSE=1.7392  valid MAE=1.4023\n",
      "Epoch 32 | train RMSE=1.6582  valid RMSE=1.7392  valid MAE=1.4023\n",
      "Epoch 33 | train RMSE=1.6584  valid RMSE=1.7444  valid MAE=1.4064\n",
      "Epoch 34 | train RMSE=1.6584  valid RMSE=1.7392  valid MAE=1.4023\n",
      "Epoch 35 | train RMSE=1.6581  valid RMSE=1.7389  valid MAE=1.4021\n",
      "Epoch 36 | train RMSE=1.6582  valid RMSE=1.7446  valid MAE=1.4065\n",
      "Epoch 37 | train RMSE=1.6587  valid RMSE=1.7446  valid MAE=1.4065\n",
      "Epoch 38 | train RMSE=1.6585  valid RMSE=1.7446  valid MAE=1.4065\n",
      "Epoch 39 | train RMSE=1.6588  valid RMSE=1.7446  valid MAE=1.4065\n",
      "Epoch 40 | train RMSE=1.6555  valid RMSE=1.7402  valid MAE=1.4031\n",
      "Best validation RMSE: 1.7341659776742941 at epoch 11\n"
     ]
    }
   ],
   "source": [
    "EPOCHS = 40\n",
    "history = {'train_rmse': [], 'valid_rmse': [], 'valid_mae': []}\n",
    "\n",
    "best_rmse = float('inf')\n",
    "best_epoch = None\n",
    "model_path = MODELS / 'autoencoder_best.pth'\n",
    "\n",
    "for epoch in range(1, EPOCHS + 1):\n",
    "    train_metrics = run_epoch(model, train_loader, optimizer=optimizer, device=device)\n",
    "    val_metrics = run_epoch(model, valid_loader, optimizer=None, device=device)\n",
    "\n",
    "    history['train_rmse'].append(train_metrics.rmse)\n",
    "    history['valid_rmse'].append(val_metrics.rmse)\n",
    "    history['valid_mae'].append(val_metrics.mae)\n",
    "\n",
    "    print(f\"Epoch {epoch:02d} | train RMSE={train_metrics.rmse:.4f}  valid RMSE={val_metrics.rmse:.4f}  valid MAE={val_metrics.mae:.4f}\")\n",
    "\n",
    "    if val_metrics.rmse < best_rmse:\n",
    "        best_rmse = val_metrics.rmse\n",
    "        best_epoch = epoch\n",
    "        torch.save({'state_dict': model.state_dict()}, model_path)\n",
    "\n",
    "print('Best validation RMSE:', best_rmse, 'at epoch', best_epoch)\n"
   ]
  },
  {
   "cell_type": "code",
   "execution_count": 7,
   "id": "ec93b7e8",
   "metadata": {},
   "outputs": [
    {
     "name": "stdout",
     "output_type": "stream",
     "text": [
      "Epoch 01 | train_loss=2.7558 | val_loss=3.1340 | val_RMSE=1.7402 | val_MAE=1.4031\n",
      "Epoch 02 | train_loss=2.7466 | val_loss=3.1340 | val_RMSE=1.7402 | val_MAE=1.4031\n",
      "Epoch 03 | train_loss=2.7374 | val_loss=3.1340 | val_RMSE=1.7402 | val_MAE=1.4031\n",
      "Epoch 04 | train_loss=2.7482 | val_loss=3.1340 | val_RMSE=1.7402 | val_MAE=1.4031\n",
      "Epoch 05 | train_loss=2.7750 | val_loss=3.1340 | val_RMSE=1.7402 | val_MAE=1.4031\n",
      "Epoch 06 | train_loss=2.7567 | val_loss=3.1340 | val_RMSE=1.7402 | val_MAE=1.4031\n",
      "Epoch 07 | train_loss=2.7406 | val_loss=3.1340 | val_RMSE=1.7402 | val_MAE=1.4031\n",
      "Epoch 08 | train_loss=2.7458 | val_loss=3.1340 | val_RMSE=1.7402 | val_MAE=1.4031\n",
      "Epoch 09 | train_loss=2.7039 | val_loss=3.1340 | val_RMSE=1.7402 | val_MAE=1.4031\n",
      "Early stopping triggered.\n",
      "Best validation RMSE 1.7402 at epoch 1\n"
     ]
    }
   ],
   "source": [
    "EPOCHS = 80\n",
    "PATIENCE = 8\n",
    "best_val_rmse = float('inf')\n",
    "best_epoch = 0\n",
    "wait = 0\n",
    "\n",
    "history = {'train_loss': [], 'val_loss': [], 'val_rmse': [], 'val_mae': []}\n",
    "checkpoint_path = MODELS / 'autoencoder_best.pth'\n",
    "\n",
    "for epoch in range(1, EPOCHS + 1):\n",
    "    train_metrics = run_epoch(model, train_loader, optimizer=optimizer, device=device)\n",
    "    val_metrics = run_epoch(model, valid_loader, optimizer=None, device=device)\n",
    "\n",
    "    history['train_loss'].append(train_metrics.loss)\n",
    "    history['val_loss'].append(val_metrics.loss)\n",
    "    history['val_rmse'].append(val_metrics.rmse)\n",
    "    history['val_mae'].append(val_metrics.mae)\n",
    "\n",
    "    print(\n",
    "        f\"Epoch {epoch:02d} | train_loss={train_metrics.loss:.4f} | \"\n",
    "        f\"val_loss={val_metrics.loss:.4f} | val_RMSE={val_metrics.rmse:.4f} | val_MAE={val_metrics.mae:.4f}\"\n",
    "    )\n",
    "\n",
    "    if val_metrics.rmse + 1e-4 < best_val_rmse:\n",
    "        best_val_rmse = val_metrics.rmse\n",
    "        best_epoch = epoch\n",
    "        wait = 0\n",
    "        torch.save(\n",
    "            {\n",
    "                'state_dict': model.state_dict(),\n",
    "                'user2idx': user2idx.to_dict(),\n",
    "                'item2idx': item2idx.to_dict(),\n",
    "                'history': history,\n",
    "                'best_val_rmse': best_val_rmse,\n",
    "            },\n",
    "            checkpoint_path,\n",
    "        )\n",
    "    else:\n",
    "        wait += 1\n",
    "        if wait >= PATIENCE:\n",
    "            print('Early stopping triggered.')\n",
    "            break\n",
    "\n",
    "print(f\"Best validation RMSE {best_val_rmse:.4f} at epoch {best_epoch}\")\n"
   ]
  },
  {
   "cell_type": "code",
   "execution_count": 8,
   "id": "db062f2e",
   "metadata": {},
   "outputs": [
    {
     "data": {
      "image/png": "[encoded data removed]",
      "text/plain": [
       "<Figure size 600x400 with 1 Axes>"
      ]
     },
     "metadata": {},
     "output_type": "display_data"
    },
    {
     "data": {
      "image/png": "[encoded data removed]",
      "text/plain": [
       "<Figure size 600x400 with 1 Axes>"
      ]
     },
     "metadata": {},
     "output_type": "display_data"
    }
   ],
   "source": [
    "plt.figure(figsize=(6, 4))\n",
    "plt.plot(history['train_loss'], label='train loss')\n",
    "plt.plot(history['val_loss'], label='valid loss')\n",
    "plt.xlabel('Epoch')\n",
    "plt.ylabel('Masked MSE')\n",
    "plt.legend()\n",
    "plt.title('AutoEncoder training')\n",
    "plt.show()\n",
    "\n",
    "plt.figure(figsize=(6, 4))\n",
    "plt.plot(history['val_rmse'], label='val RMSE')\n",
    "plt.plot(history['val_mae'], label='val MAE')\n",
    "plt.xlabel('Epoch')\n",
    "plt.ylabel('Score')\n",
    "plt.legend()\n",
    "plt.title('Validation metrics')\n",
    "plt.show()\n"
   ]
  },
  {
   "cell_type": "code",
   "execution_count": 9,
   "id": "fc8efba8",
   "metadata": {},
   "outputs": [
    {
     "name": "stdout",
     "output_type": "stream",
     "text": [
      "Test RMSE: 1.7435 | Test MAE: 1.3848\n"
     ]
    }
   ],
   "source": [
    "checkpoint = torch.load(checkpoint_path, map_location=device)\n",
    "model.load_state_dict(checkpoint['state_dict'])\n",
    "\n",
    "test_metrics = run_epoch(model, test_loader, optimizer=None, device=device)\n",
    "print(f\"Test RMSE: {test_metrics.rmse:.4f} | Test MAE: {test_metrics.mae:.4f}\")\n"
   ]
  },
  {
   "cell_type": "code",
   "execution_count": 10,
   "id": "2b42f6c0",
   "metadata": {},
   "outputs": [
    {
     "name": "stdout",
     "output_type": "stream",
     "text": [
      "Sample user: 591\n"
     ]
    },
    {
     "data": {
      "text/html": [
       "<div>\n",
       "<style scoped>\n",
       "    .dataframe tbody tr th:only-of-type {\n",
       "        vertical-align: middle;\n",
       "    }\n",
       "\n",
       "    .dataframe tbody tr th {\n",
       "        vertical-align: top;\n",
       "    }\n",
       "\n",
       "    .dataframe thead th {\n",
       "        text-align: right;\n",
       "    }\n",
       "</style>\n",
       "<table border=\"1\" class=\"dataframe\">\n",
       "  <thead>\n",
       "    <tr style=\"text-align: right;\">\n",
       "      <th></th>\n",
       "      <th>movieId</th>\n",
       "      <th>score</th>\n",
       "      <th>title</th>\n",
       "      <th>genres</th>\n",
       "    </tr>\n",
       "  </thead>\n",
       "  <tbody>\n",
       "    <tr>\n",
       "      <th>0</th>\n",
       "      <td>595</td>\n",
       "      <td>5.0</td>\n",
       "      <td>Beauty and the Beast (1991)</td>\n",
       "      <td>Animation|Children|Fantasy|Musical|Romance|IMAX</td>\n",
       "    </tr>\n",
       "    <tr>\n",
       "      <th>1</th>\n",
       "      <td>4995</td>\n",
       "      <td>5.0</td>\n",
       "      <td>Beautiful Mind, A (2001)</td>\n",
       "      <td>Drama|Romance</td>\n",
       "    </tr>\n",
       "    <tr>\n",
       "      <th>2</th>\n",
       "      <td>4896</td>\n",
       "      <td>5.0</td>\n",
       "      <td>Harry Potter and the Sorcerer's Stone (a.k.a. ...</td>\n",
       "      <td>Adventure|Children|Fantasy</td>\n",
       "    </tr>\n",
       "    <tr>\n",
       "      <th>3</th>\n",
       "      <td>5459</td>\n",
       "      <td>5.0</td>\n",
       "      <td>Men in Black II (a.k.a. MIIB) (a.k.a. MIB 2) (...</td>\n",
       "      <td>Action|Comedy|Sci-Fi</td>\n",
       "    </tr>\n",
       "    <tr>\n",
       "      <th>4</th>\n",
       "      <td>5445</td>\n",
       "      <td>5.0</td>\n",
       "      <td>Minority Report (2002)</td>\n",
       "      <td>Action|Crime|Mystery|Sci-Fi|Thriller</td>\n",
       "    </tr>\n",
       "    <tr>\n",
       "      <th>5</th>\n",
       "      <td>2078</td>\n",
       "      <td>5.0</td>\n",
       "      <td>Jungle Book, The (1967)</td>\n",
       "      <td>Animation|Children|Comedy|Musical</td>\n",
       "    </tr>\n",
       "    <tr>\n",
       "      <th>6</th>\n",
       "      <td>2700</td>\n",
       "      <td>5.0</td>\n",
       "      <td>South Park: Bigger, Longer and Uncut (1999)</td>\n",
       "      <td>Animation|Comedy|Musical</td>\n",
       "    </tr>\n",
       "    <tr>\n",
       "      <th>7</th>\n",
       "      <td>5502</td>\n",
       "      <td>5.0</td>\n",
       "      <td>Signs (2002)</td>\n",
       "      <td>Horror|Sci-Fi|Thriller</td>\n",
       "    </tr>\n",
       "    <tr>\n",
       "      <th>8</th>\n",
       "      <td>4973</td>\n",
       "      <td>5.0</td>\n",
       "      <td>Amelie (Fabuleux destin d'Amélie Poulain, Le) ...</td>\n",
       "      <td>Comedy|Romance</td>\n",
       "    </tr>\n",
       "    <tr>\n",
       "      <th>9</th>\n",
       "      <td>4308</td>\n",
       "      <td>5.0</td>\n",
       "      <td>Moulin Rouge (2001)</td>\n",
       "      <td>Drama|Musical|Romance</td>\n",
       "    </tr>\n",
       "  </tbody>\n",
       "</table>\n",
       "</div>"
      ],
      "text/plain": [
       "   movieId  score                                              title  \\\n",
       "0      595    5.0                        Beauty and the Beast (1991)   \n",
       "1     4995    5.0                           Beautiful Mind, A (2001)   \n",
       "2     4896    5.0  Harry Potter and the Sorcerer's Stone (a.k.a. ...   \n",
       "3     5459    5.0  Men in Black II (a.k.a. MIIB) (a.k.a. MIB 2) (...   \n",
       "4     5445    5.0                             Minority Report (2002)   \n",
       "5     2078    5.0                            Jungle Book, The (1967)   \n",
       "6     2700    5.0        South Park: Bigger, Longer and Uncut (1999)   \n",
       "7     5502    5.0                                       Signs (2002)   \n",
       "8     4973    5.0  Amelie (Fabuleux destin d'Amélie Poulain, Le) ...   \n",
       "9     4308    5.0                                Moulin Rouge (2001)   \n",
       "\n",
       "                                            genres  \n",
       "0  Animation|Children|Fantasy|Musical|Romance|IMAX  \n",
       "1                                    Drama|Romance  \n",
       "2                       Adventure|Children|Fantasy  \n",
       "3                             Action|Comedy|Sci-Fi  \n",
       "4             Action|Crime|Mystery|Sci-Fi|Thriller  \n",
       "5                Animation|Children|Comedy|Musical  \n",
       "6                         Animation|Comedy|Musical  \n",
       "7                           Horror|Sci-Fi|Thriller  \n",
       "8                                   Comedy|Romance  \n",
       "9                            Drama|Musical|Romance  "
      ]
     },
     "metadata": {},
     "output_type": "display_data"
    }
   ],
   "source": [
    "train_seen = build_seen_items(train_df)\n",
    "movies_meta = pd.read_csv(PROC / 'movies_enriched.csv', usecols=['movieId', 'title', 'genres'])\n",
    "\n",
    "sample_user = int(train_df['userId'].sample(1, random_state=42).iloc[0])\n",
    "recs = recommend_topk(\n",
    "    model,\n",
    "    sample_user,\n",
    "    train_matrix=train_mat,\n",
    "    user2idx=user2idx,\n",
    "    item2idx=item2idx,\n",
    "    train_seen=train_seen,\n",
    "    k=10,\n",
    "    device=device,\n",
    ").merge(movies_meta, on='movieId', how='left')\n",
    "\n",
    "print('Sample user:', sample_user)\n",
    "display(recs)\n"
   ]
  }
 ],
 "metadata": {
  "kernelspec": {
   "display_name": "movielens-mcrs",
   "language": "python",
   "name": "python3"
  },
  "language_info": {
   "codemirror_mode": {
    "name": "ipython",
    "version": 3
   },
   "file_extension": ".py",
   "mimetype": "text/x-python",
   "name": "python",
   "nbconvert_exporter": "python",
   "pygments_lexer": "ipython3",
   "version": "3.10.19"
  }
 },
 "nbformat": 4,
 "nbformat_minor": 5
}
