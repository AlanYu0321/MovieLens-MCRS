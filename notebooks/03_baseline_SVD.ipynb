{
 "cells": [
  {
   "cell_type": "markdown",
   "id": "25e44060",
   "metadata": {},
   "source": [
    "### 03 — Baseline Matrix Factorization (SVD / SVD++)\n",
    "Baseline collaborative filtering using Surprise.\n",
    "\n",
    "**Goals**\n",
    "1. Train SVD / SVD++ on `ratings_train.csv`.\n",
    "2. Evaluate RMSE/MAE on `ratings_valid.csv`.\n",
    "3. Compute Precision@K / Recall@K via top-10 recommendations."
   ]
  },
  {
   "cell_type": "code",
   "execution_count": 1,
   "id": "9d9871d8",
   "metadata": {},
   "outputs": [
    {
     "name": "stdout",
     "output_type": "stream",
     "text": [
      "Train shape: (31316, 7)  Valid shape: (3669, 7)\n",
      "Unique users (train): 479  Unique movies (train): 426\n"
     ]
    }
   ],
   "source": [
    "import os, sys, math, random\n",
    "from pathlib import Path\n",
    "import pandas as pd\n",
    "import numpy as np\n",
    "\n",
    "BASE = Path.cwd().parent\n",
    "if str(BASE) not in sys.path:\n",
    "    sys.path.append(str(BASE))\n",
    "if str(BASE / 'src') not in sys.path:\n",
    "    sys.path.append(str(BASE / 'src'))\n",
    "\n",
    "from src.svd_model import (\n",
    "    SVD,\n",
    "    SVDpp,\n",
    "    build_trainset,\n",
    "    fit_svd,\n",
    "    predict_pairs,\n",
    "    rating_metrics,\n",
    "    grid_search_svd,\n",
    "    precision_recall_at_k,\n",
    "    to_prediction_tuples,\n",
    ")\n",
    "\n",
    "PROC = BASE / 'data' / 'processed'\n",
    "\n",
    "train_path = PROC / 'ratings_train.csv'\n",
    "valid_path = PROC / 'ratings_valid.csv'\n",
    "\n",
    "assert train_path.exists() and valid_path.exists(), \"Run 02_preprocessing.ipynb first to create processed splits.\"\n",
    "\n",
    "train_df = pd.read_csv(train_path)\n",
    "valid_df = pd.read_csv(valid_path)\n",
    "\n",
    "print('Train shape:', train_df.shape, ' Valid shape:', valid_df.shape)\n",
    "print('Unique users (train):', train_df.userId.nunique(), ' Unique movies (train):', train_df.movieId.nunique())\n"
   ]
  },
  {
   "cell_type": "code",
   "execution_count": 2,
   "id": "f60d083d",
   "metadata": {},
   "outputs": [
    {
     "name": "stdout",
     "output_type": "stream",
     "text": [
      "After sampling -> Train: (31316, 7)  Valid: (3669, 7)\n"
     ]
    }
   ],
   "source": [
    "# Sample only the most active users for faster experimentation\n",
    "SAMPLE_USERS = 20000  # set to None to disable sampling\n",
    "\n",
    "if SAMPLE_USERS is not None:\n",
    "    active_users = train_df['userId'].value_counts().index[:SAMPLE_USERS]\n",
    "    train_df = train_df[train_df['userId'].isin(active_users)]\n",
    "    valid_df = valid_df[valid_df['userId'].isin(active_users)]\n",
    "    print('After sampling -> Train:', train_df.shape, ' Valid:', valid_df.shape)"
   ]
  },
  {
   "cell_type": "code",
   "execution_count": 3,
   "id": "5315d98b",
   "metadata": {},
   "outputs": [
    {
     "name": "stdout",
     "output_type": "stream",
     "text": [
      "Trainset size (n_ratings): 31316\n",
      "n_users: 479  n_items: 426\n"
     ]
    }
   ],
   "source": [
    "trainset, reader = build_trainset(train_df)\n",
    "valid_pairs = to_prediction_tuples(valid_df)\n",
    "\n",
    "print('Trainset size (n_ratings):', trainset.n_ratings)\n",
    "print('n_users:', trainset.n_users, ' n_items:', trainset.n_items)\n"
   ]
  },
  {
   "cell_type": "code",
   "execution_count": 4,
   "id": "d42ac940",
   "metadata": {},
   "outputs": [
    {
     "name": "stdout",
     "output_type": "stream",
     "text": [
      "SVD validation RMSE: 0.8479\n",
      "SVD validation MAE: 0.6495\n"
     ]
    }
   ],
   "source": [
    "svd_params = dict(n_factors=100, n_epochs=20, lr_all=0.005, reg_all=0.02, random_state=42)\n",
    "algo_svd = fit_svd(trainset, **svd_params)\n",
    "\n",
    "preds_valid_svd = predict_pairs(algo_svd, valid_pairs)\n",
    "metrics_svd = rating_metrics(preds_valid_svd)\n",
    "rmse_svd = metrics_svd.rmse\n",
    "mae_svd = metrics_svd.mae\n",
    "\n",
    "print(f\"SVD validation RMSE: {rmse_svd:.4f}\")\n",
    "print(f\"SVD validation MAE: {mae_svd:.4f}\")\n"
   ]
  },
  {
   "cell_type": "code",
   "execution_count": 5,
   "id": "e3635788",
   "metadata": {},
   "outputs": [
    {
     "name": "stdout",
     "output_type": "stream",
     "text": [
      "SVD++ validation RMSE: 0.8324\n",
      "SVD++ validation MAE: 0.6369\n"
     ]
    }
   ],
   "source": [
    "svdpp_params = dict(n_factors=80, n_epochs=15, lr_all=0.005, reg_all=0.02, random_state=42)\n",
    "algo_svdpp = fit_svd(trainset, algo_cls=SVDpp, **svdpp_params)\n",
    "\n",
    "preds_valid_svdpp = predict_pairs(algo_svdpp, valid_pairs)\n",
    "metrics_svdpp = rating_metrics(preds_valid_svdpp)\n",
    "rmse_svdpp = metrics_svdpp.rmse\n",
    "mae_svdpp = metrics_svdpp.mae\n",
    "\n",
    "print(f\"SVD++ validation RMSE: {rmse_svdpp:.4f}\")\n",
    "print(f\"SVD++ validation MAE: {mae_svdpp:.4f}\")\n"
   ]
  },
  {
   "cell_type": "code",
   "execution_count": 6,
   "id": "a3f06c2e",
   "metadata": {},
   "outputs": [
    {
     "name": "stdout",
     "output_type": "stream",
     "text": [
      "Best RMSE: 0.8346988059776291\n",
      "Best params: {'n_factors': 50, 'n_epochs': 25, 'lr_all': 0.005, 'reg_all': 0.05}\n",
      "Best-model validation RMSE: 0.8393\n",
      "Best-model validation MAE: 0.6427\n"
     ]
    }
   ],
   "source": [
    "param_grid = {\n",
    "    'n_factors': [50, 100],\n",
    "    'n_epochs': [15, 25],\n",
    "    'lr_all': [0.003, 0.005],\n",
    "    'reg_all': [0.02, 0.05]\n",
    "}\n",
    "\n",
    "gs = grid_search_svd(train_df, param_grid, algo_cls=SVD, reader=reader)\n",
    "\n",
    "print('Best RMSE:', gs.best_score['rmse'])\n",
    "print('Best params:', gs.best_params['rmse'])\n",
    "\n",
    "best_svd = fit_svd(trainset, **gs.best_params['rmse'])\n",
    "preds_best = predict_pairs(best_svd, valid_pairs)\n",
    "metrics_best = rating_metrics(preds_best)\n",
    "rmse_best = metrics_best.rmse\n",
    "mae_best = metrics_best.mae\n",
    "\n",
    "print(f\"Best-model validation RMSE: {rmse_best:.4f}\")\n",
    "print(f\"Best-model validation MAE: {mae_best:.4f}\")\n"
   ]
  },
  {
   "cell_type": "code",
   "execution_count": 7,
   "id": "11939273",
   "metadata": {},
   "outputs": [
    {
     "name": "stdout",
     "output_type": "stream",
     "text": [
      "SVD   Precision@10: 0.0343, Recall@10: 0.0596\n",
      "SVD++ Precision@10: 0.0362, Recall@10: 0.0653\n"
     ]
    }
   ],
   "source": [
    "K = 10\n",
    "THRESHOLD = 4.0\n",
    "\n",
    "p_svd, r_svd = precision_recall_at_k(algo_svd, train_df, valid_df, k=K, threshold=THRESHOLD)\n",
    "p_svdpp, r_svdpp = precision_recall_at_k(algo_svdpp, train_df, valid_df, k=K, threshold=THRESHOLD)\n",
    "\n",
    "print(f\"SVD   Precision@{K}: {p_svd:.4f}, Recall@{K}: {r_svd:.4f}\")\n",
    "print(f\"SVD++ Precision@{K}: {p_svdpp:.4f}, Recall@{K}: {r_svdpp:.4f}\")\n"
   ]
  }
 ],
 "metadata": {
  "kernelspec": {
   "display_name": "movielens-mcrs",
   "language": "python",
   "name": "python3"
  },
  "language_info": {
   "codemirror_mode": {
    "name": "ipython",
    "version": 3
   },
   "file_extension": ".py",
   "mimetype": "text/x-python",
   "name": "python",
   "nbconvert_exporter": "python",
   "pygments_lexer": "ipython3",
   "version": "3.10.19"
  }
 },
 "nbformat": 4,
 "nbformat_minor": 5
}
