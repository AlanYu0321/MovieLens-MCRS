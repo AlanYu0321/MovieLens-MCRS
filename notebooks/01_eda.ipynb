{
 "cells": [
  {
   "cell_type": "markdown",
   "id": "6a467850",
   "metadata": {},
   "source": [
    "### 01 — Exploratory Data Analysis (MovieLens 20M)\n",
    "\n",
    "Goals:\n",
    "- Inspect raw files (`ratings.csv`, `movies.csv`, `tags.csv`).\n",
    "- Verify schema, types, missing values.\n",
    "- Understand user/item counts, rating distribution, sparsity.\n",
    "- Explore genres, top movies, most active users, and time trends.\n",
    "- Save summary tables and figures into `reports/figures/`."
   ]
  },
  {
   "cell_type": "code",
   "execution_count": 46,
   "id": "bf5b24f6",
   "metadata": {},
   "outputs": [
    {
     "name": "stdout",
     "output_type": "stream",
     "text": [
      "RAW exists: True\n",
      "ratings.csv: True movies.csv: True tags.csv: True\n"
     ]
    }
   ],
   "source": [
    "import os, sys, math\n",
    "from pathlib import Path\n",
    "import pandas as pd\n",
    "import numpy as np\n",
    "import matplotlib.pyplot as plt\n",
    "BASE = Path.cwd().parent\n",
    "sys.path.append(str(BASE / 'src'))\n",
    "from data_loader import (\n",
    "    load_ratings, load_movies, load_tags\n",
    ")\n",
    "\n",
    "# Define paths\n",
    "RAW  = BASE / 'data' / 'raw'\n",
    "FIGS = BASE / 'reports' / 'figures'\n",
    "FIGS.mkdir(parents=True, exist_ok=True)\n",
    "\n",
    "# Define data file paths\n",
    "ratings_path = RAW / 'ratings.csv'\n",
    "movies_path  = RAW / 'movies.csv'\n",
    "tags_path    = RAW / 'tags.csv'\n",
    "\n",
    "# Check existence of data files\n",
    "print('RAW exists:', RAW.exists())\n",
    "print('ratings.csv:', ratings_path.exists(), 'movies.csv:', movies_path.exists(), 'tags.csv:', tags_path.exists())\n",
    "assert ratings_path.exists() and movies_path.exists(), \"Please copy ratings.csv and movies.csv into data/raw/\"\n"
   ]
  },
  {
   "cell_type": "code",
   "execution_count": 48,
   "id": "1ee98c07",
   "metadata": {},
   "outputs": [
    {
     "name": "stderr",
     "output_type": "stream",
     "text": [
      "2025-10-18 00:36:22,865 | INFO | data_loader | Loading ratings from /Users/alanyu/Documents/IIT/ITM/ITMD-524-Applied AI and Deep Learning/finalproject/MovieLens-MCRS/data/raw/ratings.csv\n",
      "2025-10-18 00:36:22,897 | INFO | data_loader | Loading movies from /Users/alanyu/Documents/IIT/ITM/ITMD-524-Applied AI and Deep Learning/finalproject/MovieLens-MCRS/data/raw/movies.csv\n",
      "2025-10-18 00:36:22,904 | INFO | data_loader | Loading tags from /Users/alanyu/Documents/IIT/ITM/ITMD-524-Applied AI and Deep Learning/finalproject/MovieLens-MCRS/data/raw/tags.csv\n"
     ]
    },
    {
     "name": "stdout",
     "output_type": "stream",
     "text": [
      "(100836, 5) (9742, 3) (3683, 5)\n"
     ]
    },
    {
     "data": {
      "text/html": [
       "<div>\n",
       "<style scoped>\n",
       "    .dataframe tbody tr th:only-of-type {\n",
       "        vertical-align: middle;\n",
       "    }\n",
       "\n",
       "    .dataframe tbody tr th {\n",
       "        vertical-align: top;\n",
       "    }\n",
       "\n",
       "    .dataframe thead th {\n",
       "        text-align: right;\n",
       "    }\n",
       "</style>\n",
       "<table border=\"1\" class=\"dataframe\">\n",
       "  <thead>\n",
       "    <tr style=\"text-align: right;\">\n",
       "      <th></th>\n",
       "      <th>userId</th>\n",
       "      <th>movieId</th>\n",
       "      <th>rating</th>\n",
       "      <th>timestamp</th>\n",
       "      <th>datetime</th>\n",
       "    </tr>\n",
       "  </thead>\n",
       "  <tbody>\n",
       "    <tr>\n",
       "      <th>0</th>\n",
       "      <td>1</td>\n",
       "      <td>1</td>\n",
       "      <td>4.0</td>\n",
       "      <td>964982703</td>\n",
       "      <td>2000-07-30 18:45:03</td>\n",
       "    </tr>\n",
       "    <tr>\n",
       "      <th>1</th>\n",
       "      <td>1</td>\n",
       "      <td>3</td>\n",
       "      <td>4.0</td>\n",
       "      <td>964981247</td>\n",
       "      <td>2000-07-30 18:20:47</td>\n",
       "    </tr>\n",
       "    <tr>\n",
       "      <th>2</th>\n",
       "      <td>1</td>\n",
       "      <td>6</td>\n",
       "      <td>4.0</td>\n",
       "      <td>964982224</td>\n",
       "      <td>2000-07-30 18:37:04</td>\n",
       "    </tr>\n",
       "    <tr>\n",
       "      <th>3</th>\n",
       "      <td>1</td>\n",
       "      <td>47</td>\n",
       "      <td>5.0</td>\n",
       "      <td>964983815</td>\n",
       "      <td>2000-07-30 19:03:35</td>\n",
       "    </tr>\n",
       "    <tr>\n",
       "      <th>4</th>\n",
       "      <td>1</td>\n",
       "      <td>50</td>\n",
       "      <td>5.0</td>\n",
       "      <td>964982931</td>\n",
       "      <td>2000-07-30 18:48:51</td>\n",
       "    </tr>\n",
       "  </tbody>\n",
       "</table>\n",
       "</div>"
      ],
      "text/plain": [
       "   userId  movieId  rating  timestamp            datetime\n",
       "0       1        1     4.0  964982703 2000-07-30 18:45:03\n",
       "1       1        3     4.0  964981247 2000-07-30 18:20:47\n",
       "2       1        6     4.0  964982224 2000-07-30 18:37:04\n",
       "3       1       47     5.0  964983815 2000-07-30 19:03:35\n",
       "4       1       50     5.0  964982931 2000-07-30 18:48:51"
      ]
     },
     "execution_count": 48,
     "metadata": {},
     "output_type": "execute_result"
    }
   ],
   "source": [
    "# Read CSVs with appropriate dtypes\n",
    "ratings = load_ratings(str(ratings_path))\n",
    "movies = load_movies(str(movies_path))\n",
    "tags = load_tags(str(tags_path))\n",
    "\n",
    "print(ratings.shape, movies.shape, tags.shape)\n",
    "ratings.head()\n"
   ]
  },
  {
   "cell_type": "markdown",
   "id": "184861e6",
   "metadata": {},
   "source": [
    "### Basic Info & Missing Values"
   ]
  },
  {
   "cell_type": "code",
   "execution_count": 24,
   "id": "8d8650ce",
   "metadata": {},
   "outputs": [
    {
     "name": "stdout",
     "output_type": "stream",
     "text": [
      "<class 'pandas.core.frame.DataFrame'>\n",
      "RangeIndex: 100836 entries, 0 to 100835\n",
      "Data columns (total 5 columns):\n",
      " #   Column     Non-Null Count   Dtype        \n",
      "---  ------     --------------   -----        \n",
      " 0   userId     100836 non-null  int32        \n",
      " 1   movieId    100836 non-null  int32        \n",
      " 2   rating     100836 non-null  float32      \n",
      " 3   timestamp  100836 non-null  int64        \n",
      " 4   datetime   100836 non-null  datetime64[s]\n",
      "dtypes: datetime64[s](1), float32(1), int32(2), int64(1)\n",
      "memory usage: 2.7 MB\n"
     ]
    },
    {
     "data": {
      "text/plain": [
       "None"
      ]
     },
     "metadata": {},
     "output_type": "display_data"
    },
    {
     "name": "stdout",
     "output_type": "stream",
     "text": [
      "<class 'pandas.core.frame.DataFrame'>\n",
      "RangeIndex: 9742 entries, 0 to 9741\n",
      "Data columns (total 3 columns):\n",
      " #   Column   Non-Null Count  Dtype \n",
      "---  ------   --------------  ----- \n",
      " 0   movieId  9742 non-null   int32 \n",
      " 1   title    9742 non-null   string\n",
      " 2   genres   9742 non-null   string\n",
      "dtypes: int32(1), string(2)\n",
      "memory usage: 190.4 KB\n"
     ]
    },
    {
     "data": {
      "text/plain": [
       "None"
      ]
     },
     "metadata": {},
     "output_type": "display_data"
    },
    {
     "name": "stdout",
     "output_type": "stream",
     "text": [
      "<class 'pandas.core.frame.DataFrame'>\n",
      "RangeIndex: 3683 entries, 0 to 3682\n",
      "Data columns (total 4 columns):\n",
      " #   Column     Non-Null Count  Dtype \n",
      "---  ------     --------------  ----- \n",
      " 0   userId     3683 non-null   int32 \n",
      " 1   movieId    3683 non-null   int32 \n",
      " 2   tag        3683 non-null   string\n",
      " 3   timestamp  3683 non-null   Int64 \n",
      "dtypes: Int64(1), int32(2), string(1)\n",
      "memory usage: 90.0 KB\n"
     ]
    },
    {
     "data": {
      "text/plain": [
       "None"
      ]
     },
     "metadata": {},
     "output_type": "display_data"
    },
    {
     "data": {
      "text/plain": [
       "userId       0.0\n",
       "movieId      0.0\n",
       "rating       0.0\n",
       "timestamp    0.0\n",
       "datetime     0.0\n",
       "dtype: float64"
      ]
     },
     "metadata": {},
     "output_type": "display_data"
    },
    {
     "data": {
      "text/plain": [
       "movieId    0.0\n",
       "title      0.0\n",
       "genres     0.0\n",
       "dtype: float64"
      ]
     },
     "metadata": {},
     "output_type": "display_data"
    },
    {
     "data": {
      "text/plain": [
       "userId       0.0\n",
       "movieId      0.0\n",
       "tag          0.0\n",
       "timestamp    0.0\n",
       "dtype: float64"
      ]
     },
     "metadata": {},
     "output_type": "display_data"
    }
   ],
   "source": [
    "# Basic Info & Missing Values\n",
    "display(ratings.info())\n",
    "display(movies.info())\n",
    "display(tags.info())\n",
    "\n",
    "# Missing value proportions\n",
    "ratings_na = ratings.isna().mean().sort_values(ascending=False)\n",
    "movies_na = movies.isna().mean().sort_values(ascending=False)\n",
    "tags_na = tags.isna().mean().sort_values(ascending=False)\n",
    "\n",
    "# Display missing value proportions\n",
    "display(ratings_na.head(10), movies_na.head(10), tags_na.head(10))\n"
   ]
  },
  {
   "cell_type": "markdown",
   "id": "eaacf34a",
   "metadata": {},
   "source": [
    "### Users, Movies, Interactions, Sparsity"
   ]
  },
  {
   "cell_type": "code",
   "execution_count": null,
   "id": "e8a1d024",
   "metadata": {},
   "outputs": [
    {
     "data": {
      "text/html": [
       "<div>\n",
       "<style scoped>\n",
       "    .dataframe tbody tr th:only-of-type {\n",
       "        vertical-align: middle;\n",
       "    }\n",
       "\n",
       "    .dataframe tbody tr th {\n",
       "        vertical-align: top;\n",
       "    }\n",
       "\n",
       "    .dataframe thead th {\n",
       "        text-align: right;\n",
       "    }\n",
       "</style>\n",
       "<table border=\"1\" class=\"dataframe\">\n",
       "  <thead>\n",
       "    <tr style=\"text-align: right;\">\n",
       "      <th></th>\n",
       "      <th>n_users</th>\n",
       "      <th>n_movies</th>\n",
       "      <th>n_ratings</th>\n",
       "      <th>sparsity</th>\n",
       "    </tr>\n",
       "  </thead>\n",
       "  <tbody>\n",
       "    <tr>\n",
       "      <th>0</th>\n",
       "      <td>610</td>\n",
       "      <td>9724</td>\n",
       "      <td>100836</td>\n",
       "      <td>0.983</td>\n",
       "    </tr>\n",
       "  </tbody>\n",
       "</table>\n",
       "</div>"
      ],
      "text/plain": [
       "   n_users  n_movies  n_ratings  sparsity\n",
       "0      610      9724     100836     0.983"
      ]
     },
     "execution_count": 26,
     "metadata": {},
     "output_type": "execute_result"
    }
   ],
   "source": [
    "# Calculate sparsity\n",
    "n_users = ratings['userId'].nunique()\n",
    "n_items = ratings['movieId'].nunique()\n",
    "n_inter = len(ratings)\n",
    "sparsity = 1 - (n_inter / (n_users * n_items))\n",
    "summary = pd.DataFrame({\n",
    "    'n_users':[n_users], 'n_movies':[n_items], 'n_ratings':[n_inter], 'sparsity':[sparsity]\n",
    "})\n",
    "summary\n"
   ]
  },
  {
   "cell_type": "markdown",
   "id": "22bfc03f",
   "metadata": {},
   "source": [
    "### Rating Distribution"
   ]
  },
  {
   "cell_type": "code",
   "execution_count": null,
   "id": "9a1ac1ab",
   "metadata": {},
   "outputs": [
    {
     "data": {
      "image/png": "[encoded data removed]",
      "text/plain": [
       "<Figure size 640x480 with 1 Axes>"
      ]
     },
     "metadata": {},
     "output_type": "display_data"
    }
   ],
   "source": [
    "# Ratings Histogram\n",
    "plt.figure()\n",
    "ratings['rating'].hist(bins=20)\n",
    "plt.title('Ratings Histogram')\n",
    "plt.xlabel('Rating')\n",
    "plt.ylabel('Count')\n",
    "plt.tight_layout()\n",
    "plt.savefig(FIGS / 'ratings_histogram.png')\n",
    "plt.show()\n"
   ]
  },
  {
   "cell_type": "markdown",
   "id": "bd5319ff",
   "metadata": {},
   "source": [
    "### Top Movies by Number of Ratings"
   ]
  },
  {
   "cell_type": "code",
   "execution_count": null,
   "id": "d8623506",
   "metadata": {},
   "outputs": [
    {
     "data": {
      "text/html": [
       "<div>\n",
       "<style scoped>\n",
       "    .dataframe tbody tr th:only-of-type {\n",
       "        vertical-align: middle;\n",
       "    }\n",
       "\n",
       "    .dataframe tbody tr th {\n",
       "        vertical-align: top;\n",
       "    }\n",
       "\n",
       "    .dataframe thead th {\n",
       "        text-align: right;\n",
       "    }\n",
       "</style>\n",
       "<table border=\"1\" class=\"dataframe\">\n",
       "  <thead>\n",
       "    <tr style=\"text-align: right;\">\n",
       "      <th></th>\n",
       "      <th>movieId</th>\n",
       "      <th>title</th>\n",
       "      <th>n_ratings</th>\n",
       "    </tr>\n",
       "  </thead>\n",
       "  <tbody>\n",
       "    <tr>\n",
       "      <th>0</th>\n",
       "      <td>356</td>\n",
       "      <td>Forrest Gump (1994)</td>\n",
       "      <td>329</td>\n",
       "    </tr>\n",
       "    <tr>\n",
       "      <th>1</th>\n",
       "      <td>318</td>\n",
       "      <td>Shawshank Redemption, The (1994)</td>\n",
       "      <td>317</td>\n",
       "    </tr>\n",
       "    <tr>\n",
       "      <th>2</th>\n",
       "      <td>296</td>\n",
       "      <td>Pulp Fiction (1994)</td>\n",
       "      <td>307</td>\n",
       "    </tr>\n",
       "    <tr>\n",
       "      <th>3</th>\n",
       "      <td>593</td>\n",
       "      <td>Silence of the Lambs, The (1991)</td>\n",
       "      <td>279</td>\n",
       "    </tr>\n",
       "    <tr>\n",
       "      <th>4</th>\n",
       "      <td>2571</td>\n",
       "      <td>Matrix, The (1999)</td>\n",
       "      <td>278</td>\n",
       "    </tr>\n",
       "    <tr>\n",
       "      <th>5</th>\n",
       "      <td>260</td>\n",
       "      <td>Star Wars: Episode IV - A New Hope (1977)</td>\n",
       "      <td>251</td>\n",
       "    </tr>\n",
       "    <tr>\n",
       "      <th>6</th>\n",
       "      <td>480</td>\n",
       "      <td>Jurassic Park (1993)</td>\n",
       "      <td>238</td>\n",
       "    </tr>\n",
       "    <tr>\n",
       "      <th>7</th>\n",
       "      <td>110</td>\n",
       "      <td>Braveheart (1995)</td>\n",
       "      <td>237</td>\n",
       "    </tr>\n",
       "    <tr>\n",
       "      <th>8</th>\n",
       "      <td>589</td>\n",
       "      <td>Terminator 2: Judgment Day (1991)</td>\n",
       "      <td>224</td>\n",
       "    </tr>\n",
       "    <tr>\n",
       "      <th>9</th>\n",
       "      <td>527</td>\n",
       "      <td>Schindler's List (1993)</td>\n",
       "      <td>220</td>\n",
       "    </tr>\n",
       "    <tr>\n",
       "      <th>10</th>\n",
       "      <td>2959</td>\n",
       "      <td>Fight Club (1999)</td>\n",
       "      <td>218</td>\n",
       "    </tr>\n",
       "    <tr>\n",
       "      <th>11</th>\n",
       "      <td>1</td>\n",
       "      <td>Toy Story (1995)</td>\n",
       "      <td>215</td>\n",
       "    </tr>\n",
       "    <tr>\n",
       "      <th>12</th>\n",
       "      <td>1196</td>\n",
       "      <td>Star Wars: Episode V - The Empire Strikes Back...</td>\n",
       "      <td>211</td>\n",
       "    </tr>\n",
       "    <tr>\n",
       "      <th>13</th>\n",
       "      <td>50</td>\n",
       "      <td>Usual Suspects, The (1995)</td>\n",
       "      <td>204</td>\n",
       "    </tr>\n",
       "    <tr>\n",
       "      <th>14</th>\n",
       "      <td>2858</td>\n",
       "      <td>American Beauty (1999)</td>\n",
       "      <td>204</td>\n",
       "    </tr>\n",
       "    <tr>\n",
       "      <th>15</th>\n",
       "      <td>47</td>\n",
       "      <td>Seven (a.k.a. Se7en) (1995)</td>\n",
       "      <td>203</td>\n",
       "    </tr>\n",
       "    <tr>\n",
       "      <th>16</th>\n",
       "      <td>780</td>\n",
       "      <td>Independence Day (a.k.a. ID4) (1996)</td>\n",
       "      <td>202</td>\n",
       "    </tr>\n",
       "    <tr>\n",
       "      <th>17</th>\n",
       "      <td>150</td>\n",
       "      <td>Apollo 13 (1995)</td>\n",
       "      <td>201</td>\n",
       "    </tr>\n",
       "    <tr>\n",
       "      <th>18</th>\n",
       "      <td>1198</td>\n",
       "      <td>Raiders of the Lost Ark (Indiana Jones and the...</td>\n",
       "      <td>200</td>\n",
       "    </tr>\n",
       "    <tr>\n",
       "      <th>19</th>\n",
       "      <td>4993</td>\n",
       "      <td>Lord of the Rings: The Fellowship of the Ring,...</td>\n",
       "      <td>198</td>\n",
       "    </tr>\n",
       "  </tbody>\n",
       "</table>\n",
       "</div>"
      ],
      "text/plain": [
       "    movieId                                              title  n_ratings\n",
       "0       356                                Forrest Gump (1994)        329\n",
       "1       318                   Shawshank Redemption, The (1994)        317\n",
       "2       296                                Pulp Fiction (1994)        307\n",
       "3       593                   Silence of the Lambs, The (1991)        279\n",
       "4      2571                                 Matrix, The (1999)        278\n",
       "5       260          Star Wars: Episode IV - A New Hope (1977)        251\n",
       "6       480                               Jurassic Park (1993)        238\n",
       "7       110                                  Braveheart (1995)        237\n",
       "8       589                  Terminator 2: Judgment Day (1991)        224\n",
       "9       527                            Schindler's List (1993)        220\n",
       "10     2959                                  Fight Club (1999)        218\n",
       "11        1                                   Toy Story (1995)        215\n",
       "12     1196  Star Wars: Episode V - The Empire Strikes Back...        211\n",
       "13       50                         Usual Suspects, The (1995)        204\n",
       "14     2858                             American Beauty (1999)        204\n",
       "15       47                        Seven (a.k.a. Se7en) (1995)        203\n",
       "16      780               Independence Day (a.k.a. ID4) (1996)        202\n",
       "17      150                                   Apollo 13 (1995)        201\n",
       "18     1198  Raiders of the Lost Ark (Indiana Jones and the...        200\n",
       "19     4993  Lord of the Rings: The Fellowship of the Ring,...        198"
      ]
     },
     "execution_count": 7,
     "metadata": {},
     "output_type": "execute_result"
    }
   ],
   "source": [
    "# Top 20 Most Rated Movies\n",
    "movie_counts = ratings.groupby('movieId')['userId'].count().sort_values(ascending=False).head(20)\n",
    "top_movies = movies.set_index('movieId').loc[movie_counts.index][['title']].copy()\n",
    "top_movies['n_ratings'] = movie_counts.values\n",
    "top_movies.reset_index(inplace=True)\n",
    "top_movies\n"
   ]
  },
  {
   "cell_type": "markdown",
   "id": "2f7a96a3",
   "metadata": {},
   "source": [
    "### Most Active Users"
   ]
  },
  {
   "cell_type": "code",
   "execution_count": 30,
   "id": "4b53a261",
   "metadata": {},
   "outputs": [
    {
     "data": {
      "text/html": [
       "<div>\n",
       "<style scoped>\n",
       "    .dataframe tbody tr th:only-of-type {\n",
       "        vertical-align: middle;\n",
       "    }\n",
       "\n",
       "    .dataframe tbody tr th {\n",
       "        vertical-align: top;\n",
       "    }\n",
       "\n",
       "    .dataframe thead th {\n",
       "        text-align: right;\n",
       "    }\n",
       "</style>\n",
       "<table border=\"1\" class=\"dataframe\">\n",
       "  <thead>\n",
       "    <tr style=\"text-align: right;\">\n",
       "      <th></th>\n",
       "      <th>userId</th>\n",
       "      <th>n_ratings</th>\n",
       "    </tr>\n",
       "  </thead>\n",
       "  <tbody>\n",
       "    <tr>\n",
       "      <th>0</th>\n",
       "      <td>414</td>\n",
       "      <td>2698</td>\n",
       "    </tr>\n",
       "    <tr>\n",
       "      <th>1</th>\n",
       "      <td>599</td>\n",
       "      <td>2478</td>\n",
       "    </tr>\n",
       "    <tr>\n",
       "      <th>2</th>\n",
       "      <td>474</td>\n",
       "      <td>2108</td>\n",
       "    </tr>\n",
       "    <tr>\n",
       "      <th>3</th>\n",
       "      <td>448</td>\n",
       "      <td>1864</td>\n",
       "    </tr>\n",
       "    <tr>\n",
       "      <th>4</th>\n",
       "      <td>274</td>\n",
       "      <td>1346</td>\n",
       "    </tr>\n",
       "    <tr>\n",
       "      <th>5</th>\n",
       "      <td>610</td>\n",
       "      <td>1302</td>\n",
       "    </tr>\n",
       "    <tr>\n",
       "      <th>6</th>\n",
       "      <td>68</td>\n",
       "      <td>1260</td>\n",
       "    </tr>\n",
       "    <tr>\n",
       "      <th>7</th>\n",
       "      <td>380</td>\n",
       "      <td>1218</td>\n",
       "    </tr>\n",
       "    <tr>\n",
       "      <th>8</th>\n",
       "      <td>606</td>\n",
       "      <td>1115</td>\n",
       "    </tr>\n",
       "    <tr>\n",
       "      <th>9</th>\n",
       "      <td>288</td>\n",
       "      <td>1055</td>\n",
       "    </tr>\n",
       "    <tr>\n",
       "      <th>10</th>\n",
       "      <td>249</td>\n",
       "      <td>1046</td>\n",
       "    </tr>\n",
       "    <tr>\n",
       "      <th>11</th>\n",
       "      <td>387</td>\n",
       "      <td>1027</td>\n",
       "    </tr>\n",
       "    <tr>\n",
       "      <th>12</th>\n",
       "      <td>182</td>\n",
       "      <td>977</td>\n",
       "    </tr>\n",
       "    <tr>\n",
       "      <th>13</th>\n",
       "      <td>307</td>\n",
       "      <td>975</td>\n",
       "    </tr>\n",
       "    <tr>\n",
       "      <th>14</th>\n",
       "      <td>603</td>\n",
       "      <td>943</td>\n",
       "    </tr>\n",
       "    <tr>\n",
       "      <th>15</th>\n",
       "      <td>298</td>\n",
       "      <td>939</td>\n",
       "    </tr>\n",
       "    <tr>\n",
       "      <th>16</th>\n",
       "      <td>177</td>\n",
       "      <td>904</td>\n",
       "    </tr>\n",
       "    <tr>\n",
       "      <th>17</th>\n",
       "      <td>318</td>\n",
       "      <td>879</td>\n",
       "    </tr>\n",
       "    <tr>\n",
       "      <th>18</th>\n",
       "      <td>232</td>\n",
       "      <td>862</td>\n",
       "    </tr>\n",
       "    <tr>\n",
       "      <th>19</th>\n",
       "      <td>480</td>\n",
       "      <td>836</td>\n",
       "    </tr>\n",
       "  </tbody>\n",
       "</table>\n",
       "</div>"
      ],
      "text/plain": [
       "    userId  n_ratings\n",
       "0      414       2698\n",
       "1      599       2478\n",
       "2      474       2108\n",
       "3      448       1864\n",
       "4      274       1346\n",
       "5      610       1302\n",
       "6       68       1260\n",
       "7      380       1218\n",
       "8      606       1115\n",
       "9      288       1055\n",
       "10     249       1046\n",
       "11     387       1027\n",
       "12     182        977\n",
       "13     307        975\n",
       "14     603        943\n",
       "15     298        939\n",
       "16     177        904\n",
       "17     318        879\n",
       "18     232        862\n",
       "19     480        836"
      ]
     },
     "execution_count": 30,
     "metadata": {},
     "output_type": "execute_result"
    }
   ],
   "source": [
    "active_users = ratings['userId'].value_counts().reset_index(name='n_ratings').head(20)\n",
    "active_users\n"
   ]
  },
  {
   "cell_type": "markdown",
   "id": "c160db95",
   "metadata": {},
   "source": [
    "### Temporal Trends (Monthly Ratings Count)"
   ]
  },
  {
   "cell_type": "code",
   "execution_count": null,
   "id": "a2ffa889",
   "metadata": {},
   "outputs": [
    {
     "data": {
      "image/png": "[encoded data removed]",
      "text/plain": [
       "<Figure size 640x480 with 1 Axes>"
      ]
     },
     "metadata": {},
     "output_type": "display_data"
    }
   ],
   "source": [
    "if 'datetime' in ratings.columns:\n",
    "    # Monthly Ratings Count(Month Start)\n",
    "    monthly = ratings.set_index('datetime').resample('MS')['rating'].count()\n",
    "    plt.figure()\n",
    "    monthly.plot()\n",
    "    plt.title('Ratings per Month')\n",
    "    plt.xlabel('Month')\n",
    "    plt.ylabel('Count')\n",
    "    plt.tight_layout()\n",
    "    plt.savefig(FIGS / 'ratings_per_month.png')\n",
    "    plt.show()\n",
    "else:\n",
    "    print(\"No datetime column parsed; skip temporal plot.\")\n"
   ]
  },
  {
   "cell_type": "markdown",
   "id": "35dcb473",
   "metadata": {},
   "source": [
    "### Genres: frequency and average ratings"
   ]
  },
  {
   "cell_type": "code",
   "execution_count": 41,
   "id": "a6b2b79a",
   "metadata": {},
   "outputs": [
    {
     "data": {
      "text/html": [
       "<div>\n",
       "<style scoped>\n",
       "    .dataframe tbody tr th:only-of-type {\n",
       "        vertical-align: middle;\n",
       "    }\n",
       "\n",
       "    .dataframe tbody tr th {\n",
       "        vertical-align: top;\n",
       "    }\n",
       "\n",
       "    .dataframe thead th {\n",
       "        text-align: right;\n",
       "    }\n",
       "</style>\n",
       "<table border=\"1\" class=\"dataframe\">\n",
       "  <thead>\n",
       "    <tr style=\"text-align: right;\">\n",
       "      <th></th>\n",
       "      <th>count</th>\n",
       "      <th>mean</th>\n",
       "    </tr>\n",
       "    <tr>\n",
       "      <th>genre</th>\n",
       "      <th></th>\n",
       "      <th></th>\n",
       "    </tr>\n",
       "  </thead>\n",
       "  <tbody>\n",
       "    <tr>\n",
       "      <th>Drama</th>\n",
       "      <td>41928</td>\n",
       "      <td>3.656184</td>\n",
       "    </tr>\n",
       "    <tr>\n",
       "      <th>Comedy</th>\n",
       "      <td>39053</td>\n",
       "      <td>3.384721</td>\n",
       "    </tr>\n",
       "    <tr>\n",
       "      <th>Action</th>\n",
       "      <td>30635</td>\n",
       "      <td>3.447984</td>\n",
       "    </tr>\n",
       "    <tr>\n",
       "      <th>Thriller</th>\n",
       "      <td>26452</td>\n",
       "      <td>3.493706</td>\n",
       "    </tr>\n",
       "    <tr>\n",
       "      <th>Adventure</th>\n",
       "      <td>24161</td>\n",
       "      <td>3.508609</td>\n",
       "    </tr>\n",
       "    <tr>\n",
       "      <th>Romance</th>\n",
       "      <td>18124</td>\n",
       "      <td>3.506511</td>\n",
       "    </tr>\n",
       "    <tr>\n",
       "      <th>Sci-Fi</th>\n",
       "      <td>17243</td>\n",
       "      <td>3.455721</td>\n",
       "    </tr>\n",
       "    <tr>\n",
       "      <th>Crime</th>\n",
       "      <td>16681</td>\n",
       "      <td>3.658294</td>\n",
       "    </tr>\n",
       "    <tr>\n",
       "      <th>Fantasy</th>\n",
       "      <td>11834</td>\n",
       "      <td>3.491000</td>\n",
       "    </tr>\n",
       "    <tr>\n",
       "      <th>Children</th>\n",
       "      <td>9208</td>\n",
       "      <td>3.412956</td>\n",
       "    </tr>\n",
       "    <tr>\n",
       "      <th>Mystery</th>\n",
       "      <td>7674</td>\n",
       "      <td>3.632460</td>\n",
       "    </tr>\n",
       "    <tr>\n",
       "      <th>Horror</th>\n",
       "      <td>7291</td>\n",
       "      <td>3.258195</td>\n",
       "    </tr>\n",
       "    <tr>\n",
       "      <th>Animation</th>\n",
       "      <td>6988</td>\n",
       "      <td>3.629937</td>\n",
       "    </tr>\n",
       "    <tr>\n",
       "      <th>War</th>\n",
       "      <td>4859</td>\n",
       "      <td>3.808294</td>\n",
       "    </tr>\n",
       "    <tr>\n",
       "      <th>IMAX</th>\n",
       "      <td>4145</td>\n",
       "      <td>3.618335</td>\n",
       "    </tr>\n",
       "    <tr>\n",
       "      <th>Musical</th>\n",
       "      <td>4138</td>\n",
       "      <td>3.563678</td>\n",
       "    </tr>\n",
       "    <tr>\n",
       "      <th>Western</th>\n",
       "      <td>1930</td>\n",
       "      <td>3.583938</td>\n",
       "    </tr>\n",
       "    <tr>\n",
       "      <th>Documentary</th>\n",
       "      <td>1219</td>\n",
       "      <td>3.797785</td>\n",
       "    </tr>\n",
       "    <tr>\n",
       "      <th>Film-Noir</th>\n",
       "      <td>870</td>\n",
       "      <td>3.920115</td>\n",
       "    </tr>\n",
       "  </tbody>\n",
       "</table>\n",
       "</div>"
      ],
      "text/plain": [
       "             count      mean\n",
       "genre                       \n",
       "Drama        41928  3.656184\n",
       "Comedy       39053  3.384721\n",
       "Action       30635  3.447984\n",
       "Thriller     26452  3.493706\n",
       "Adventure    24161  3.508609\n",
       "Romance      18124  3.506511\n",
       "Sci-Fi       17243  3.455721\n",
       "Crime        16681  3.658294\n",
       "Fantasy      11834  3.491000\n",
       "Children      9208  3.412956\n",
       "Mystery       7674  3.632460\n",
       "Horror        7291  3.258195\n",
       "Animation     6988  3.629937\n",
       "War           4859  3.808294\n",
       "IMAX          4145  3.618335\n",
       "Musical       4138  3.563678\n",
       "Western       1930  3.583938\n",
       "Documentary   1219  3.797785\n",
       "Film-Noir      870  3.920115"
      ]
     },
     "execution_count": 41,
     "metadata": {},
     "output_type": "execute_result"
    }
   ],
   "source": [
    "# Explode pipe-separated genres\n",
    "g = movies[['movieId','genres']].copy()\n",
    "g['genres'] = g['genres'].fillna('')\n",
    "g = g.assign(genre=g['genres'].str.split('|')).explode('genre')\n",
    "g = g[g['genre'].notna() & (g['genre']!='(no genres listed)') & (g['genre']!='')]\n",
    "\n",
    "# join with ratings to compute counts and mean rating per genre\n",
    "gr = ratings.merge(g[['movieId','genre']], on='movieId', how='left')\n",
    "genre_stats = gr.groupby('genre')['rating'].agg(['count','mean']).sort_values('count', ascending=False)\n",
    "genre_stats.head(20)"
   ]
  },
  {
   "cell_type": "markdown",
   "id": "efa098e7",
   "metadata": {},
   "source": [
    "### Save key tables"
   ]
  },
  {
   "cell_type": "code",
   "execution_count": null,
   "id": "332fea60",
   "metadata": {},
   "outputs": [
    {
     "name": "stdout",
     "output_type": "stream",
     "text": [
      "Saved tables to /Users/alanyu/Documents/IIT/ITM/ITMD-524-Applied AI and Deep Learning/finalproject/MovieLens-MCRS/reports\n"
     ]
    }
   ],
   "source": [
    "# Save key tables\n",
    "summary.to_csv(BASE / 'reports' / 'eda_summary.csv', index=False)\n",
    "top_movies.to_csv(BASE / 'reports' / 'top_movies.csv', index=False)\n",
    "active_users.to_csv(BASE / 'reports' / 'active_users.csv', index=False)\n",
    "genre_stats.to_csv(BASE / 'reports' / 'genre_stats.csv')\n",
    "print('Saved tables to', BASE / 'reports')\n"
   ]
  }
 ],
 "metadata": {
  "kernelspec": {
   "display_name": "movielens-mcrs",
   "language": "python",
   "name": "python3"
  },
  "language_info": {
   "codemirror_mode": {
    "name": "ipython",
    "version": 3
   },
   "file_extension": ".py",
   "mimetype": "text/x-python",
   "name": "python",
   "nbconvert_exporter": "python",
   "pygments_lexer": "ipython3",
   "version": "3.10.19"
  }
 },
 "nbformat": 4,
 "nbformat_minor": 5
}
