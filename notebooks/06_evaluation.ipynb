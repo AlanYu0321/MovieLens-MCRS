{
 "cells": [
  {
   "cell_type": "markdown",
   "id": "721a8ade",
   "metadata": {},
   "source": [
    "### 06 — Model Evaluation\n",
    "Compare collaborative filtering models on rating accuracy and top-k ranking quality."
   ]
  },
  {
   "cell_type": "code",
   "execution_count": 1,
   "id": "cc5d6e19",
   "metadata": {
    "execution": {
     "iopub.execute_input": "2025-10-19T23:50:29.080446Z",
     "iopub.status.busy": "2025-10-19T23:50:29.080176Z",
     "iopub.status.idle": "2025-10-19T23:50:30.071729Z",
     "shell.execute_reply": "2025-10-19T23:50:30.071249Z"
    }
   },
   "outputs": [
    {
     "name": "stdout",
     "output_type": "stream",
     "text": [
      "Using device: cpu\n"
     ]
    }
   ],
   "source": [
    "from pathlib import Path\n",
    "import sys\n",
    "\n",
    "import numpy as np\n",
    "import pandas as pd\n",
    "import torch\n",
    "import matplotlib.pyplot as plt\n",
    "\n",
    "BASE = Path.cwd() if Path.cwd().name != 'notebooks' else Path.cwd().parent\n",
    "PROC = BASE / 'data' / 'processed'\n",
    "MODELS = BASE / 'models'\n",
    "REPORTS = BASE / 'reports'\n",
    "REPORTS.mkdir(exist_ok=True)\n",
    "\n",
    "if str(BASE) not in sys.path:\n",
    "    sys.path.append(str(BASE))\n",
    "if str(BASE / 'src') not in sys.path:\n",
    "    sys.path.append(str(BASE / 'src'))\n",
    "\n",
    "from src.ncf_model import load_ncf_checkpoint\n",
    "from src.autoencoder_model import load_autoencoder_checkpoint, encode_dense_splits\n",
    "from src.evaluation import (\n",
    "    predict_ncf,\n",
    "    predict_autoencoder,\n",
    "    compute_regression_metrics,\n",
    "    summarize_ranking,\n",
    "    recommend_topk_ncf_ids,\n",
    "    recommend_topk_autoencoder_ids,\n",
    ")\n",
    "\n",
    "device = torch.device('cuda' if torch.cuda.is_available() else 'cpu')\n",
    "print('Using device:', device)\n"
   ]
  },
  {
   "cell_type": "code",
   "execution_count": 2,
   "id": "9d27f67f",
   "metadata": {
    "execution": {
     "iopub.execute_input": "2025-10-19T23:50:30.072889Z",
     "iopub.status.busy": "2025-10-19T23:50:30.072782Z",
     "iopub.status.idle": "2025-10-19T23:50:30.109761Z",
     "shell.execute_reply": "2025-10-19T23:50:30.109287Z"
    }
   },
   "outputs": [
    {
     "name": "stdout",
     "output_type": "stream",
     "text": [
      "train -> shape=(31316, 7) users=479 items=426\n",
      "valid -> shape=(3669, 7) users=479 items=426\n",
      " test -> shape=(3669, 7) users=479 items=426\n"
     ]
    }
   ],
   "source": [
    "train_df = pd.read_csv(PROC / 'ratings_train.csv')\n",
    "valid_df = pd.read_csv(PROC / 'ratings_valid.csv')\n",
    "test_df  = pd.read_csv(PROC / 'ratings_test.csv')\n",
    "movies   = pd.read_csv(PROC / 'movies_enriched.csv')\n",
    "\n",
    "for name, df in [('train', train_df), ('valid', valid_df), ('test', test_df)]:\n",
    "    print(f\"{name:>5} -> shape={df.shape} users={df.userId.nunique()} items={df.movieId.nunique()}\")"
   ]
  },
  {
   "cell_type": "code",
   "execution_count": 3,
   "id": "cebcfc9e",
   "metadata": {
    "execution": {
     "iopub.execute_input": "2025-10-19T23:50:30.110840Z",
     "iopub.status.busy": "2025-10-19T23:50:30.110770Z",
     "iopub.status.idle": "2025-10-19T23:50:30.747413Z",
     "shell.execute_reply": "2025-10-19T23:50:30.747021Z"
    }
   },
   "outputs": [],
   "source": [
    "train_mat, _, _, _, _, _, user2idx, item2idx = encode_dense_splits(train_df, valid_df, test_df)\n",
    "idx2item = pd.Series(item2idx.index, index=item2idx.values)\n",
    "\n",
    "train_seen = train_df.groupby('userId')['movieId'].apply(set).to_dict()\n",
    "valid_truth = valid_df.groupby('userId')['movieId'].apply(set).to_dict()\n",
    "test_truth = test_df.groupby('userId')['movieId'].apply(set).to_dict()\n"
   ]
  },
  {
   "cell_type": "markdown",
   "id": "6ff59adb",
   "metadata": {},
   "source": [
    "#### Load Trained Models"
   ]
  },
  {
   "cell_type": "code",
   "execution_count": 4,
   "id": "ced5e45c",
   "metadata": {
    "execution": {
     "iopub.execute_input": "2025-10-19T23:50:30.749042Z",
     "iopub.status.busy": "2025-10-19T23:50:30.748944Z",
     "iopub.status.idle": "2025-10-19T23:50:30.761322Z",
     "shell.execute_reply": "2025-10-19T23:50:30.760965Z"
    }
   },
   "outputs": [
    {
     "name": "stdout",
     "output_type": "stream",
     "text": [
      "Loaded NCF and AutoEncoder checkpoints.\n"
     ]
    }
   ],
   "source": [
    "ncf_path = MODELS / 'ncf_best.pth'\n",
    "ae_path  = MODELS / 'autoencoder_best.pth'\n",
    "\n",
    "ncf_model = load_ncf_checkpoint(\n",
    "    ncf_path,\n",
    "    n_users=len(user2idx),\n",
    "    n_items=len(item2idx),\n",
    "    device=device,\n",
    ")\n",
    "\n",
    "ae_model, ae_meta = load_autoencoder_checkpoint(\n",
    "    ae_path,\n",
    "    n_items=len(item2idx),\n",
    "    device=device,\n",
    ")\n",
    "print('Loaded NCF and AutoEncoder checkpoints.')\n"
   ]
  },
  {
   "cell_type": "markdown",
   "id": "df0faf68",
   "metadata": {},
   "source": [
    "#### Helper Functions"
   ]
  },
  {
   "cell_type": "code",
   "execution_count": 5,
   "id": "4f8b427c",
   "metadata": {
    "execution": {
     "iopub.execute_input": "2025-10-19T23:50:30.762747Z",
     "iopub.status.busy": "2025-10-19T23:50:30.762669Z",
     "iopub.status.idle": "2025-10-19T23:50:30.767103Z",
     "shell.execute_reply": "2025-10-19T23:50:30.766750Z"
    }
   },
   "outputs": [],
   "source": [
    "# Prediction helpers are imported from src.evaluation.\n"
   ]
  },
  {
   "cell_type": "markdown",
   "id": "76a475ae",
   "metadata": {},
   "source": [
    "#### Rating Prediction Metrics"
   ]
  },
  {
   "cell_type": "code",
   "execution_count": 6,
   "id": "b9502978",
   "metadata": {
    "execution": {
     "iopub.execute_input": "2025-10-19T23:50:30.768250Z",
     "iopub.status.busy": "2025-10-19T23:50:30.768184Z",
     "iopub.status.idle": "2025-10-19T23:50:30.831519Z",
     "shell.execute_reply": "2025-10-19T23:50:30.831093Z"
    }
   },
   "outputs": [
    {
     "data": {
      "text/html": [
       "<div>\n",
       "<style scoped>\n",
       "    .dataframe tbody tr th:only-of-type {\n",
       "        vertical-align: middle;\n",
       "    }\n",
       "\n",
       "    .dataframe tbody tr th {\n",
       "        vertical-align: top;\n",
       "    }\n",
       "\n",
       "    .dataframe thead th {\n",
       "        text-align: right;\n",
       "    }\n",
       "</style>\n",
       "<table border=\"1\" class=\"dataframe\">\n",
       "  <thead>\n",
       "    <tr style=\"text-align: right;\">\n",
       "      <th></th>\n",
       "      <th>model</th>\n",
       "      <th>split</th>\n",
       "      <th>rmse</th>\n",
       "      <th>mae</th>\n",
       "    </tr>\n",
       "  </thead>\n",
       "  <tbody>\n",
       "    <tr>\n",
       "      <th>0</th>\n",
       "      <td>NCF</td>\n",
       "      <td>valid</td>\n",
       "      <td>0.854136</td>\n",
       "      <td>0.662013</td>\n",
       "    </tr>\n",
       "    <tr>\n",
       "      <th>1</th>\n",
       "      <td>AutoEncoder</td>\n",
       "      <td>valid</td>\n",
       "      <td>1.740214</td>\n",
       "      <td>1.403107</td>\n",
       "    </tr>\n",
       "    <tr>\n",
       "      <th>2</th>\n",
       "      <td>NCF</td>\n",
       "      <td>test</td>\n",
       "      <td>0.894004</td>\n",
       "      <td>0.692092</td>\n",
       "    </tr>\n",
       "    <tr>\n",
       "      <th>3</th>\n",
       "      <td>AutoEncoder</td>\n",
       "      <td>test</td>\n",
       "      <td>1.743500</td>\n",
       "      <td>1.384846</td>\n",
       "    </tr>\n",
       "  </tbody>\n",
       "</table>\n",
       "</div>"
      ],
      "text/plain": [
       "         model  split      rmse       mae\n",
       "0          NCF  valid  0.854136  0.662013\n",
       "1  AutoEncoder  valid  1.740214  1.403107\n",
       "2          NCF   test  0.894004  0.692092\n",
       "3  AutoEncoder   test  1.743500  1.384846"
      ]
     },
     "execution_count": 6,
     "metadata": {},
     "output_type": "execute_result"
    }
   ],
   "source": [
    "results = []\n",
    "\n",
    "for split_name, df in [('valid', valid_df), ('test', test_df)]:\n",
    "    preds = predict_ncf(\n",
    "        ncf_model,\n",
    "        df,\n",
    "        user2idx=user2idx,\n",
    "        item2idx=item2idx,\n",
    "        device=device,\n",
    "    )\n",
    "    metrics = compute_regression_metrics(df['rating'].to_numpy(dtype=np.float32), preds)\n",
    "    results.append({'model': 'NCF', 'split': split_name, 'rmse': metrics.rmse, 'mae': metrics.mae})\n",
    "\n",
    "    preds = predict_autoencoder(\n",
    "        ae_model,\n",
    "        df,\n",
    "        train_matrix=train_mat,\n",
    "        user2idx=user2idx,\n",
    "        item2idx=item2idx,\n",
    "        device=device,\n",
    "    )\n",
    "    metrics = compute_regression_metrics(df['rating'].to_numpy(dtype=np.float32), preds)\n",
    "    results.append({'model': 'AutoEncoder', 'split': split_name, 'rmse': metrics.rmse, 'mae': metrics.mae})\n",
    "\n",
    "ratings_df = pd.DataFrame(results)\n",
    "ratings_df\n"
   ]
  },
  {
   "cell_type": "markdown",
   "id": "0c8cb545",
   "metadata": {},
   "source": [
    "#### Top-K Ranking Metrics\n"
   ]
  },
  {
   "cell_type": "code",
   "execution_count": 7,
   "id": "2a096f1d",
   "metadata": {
    "execution": {
     "iopub.execute_input": "2025-10-19T23:50:30.832701Z",
     "iopub.status.busy": "2025-10-19T23:50:30.832620Z",
     "iopub.status.idle": "2025-10-19T23:50:31.552621Z",
     "shell.execute_reply": "2025-10-19T23:50:31.552166Z"
    }
   },
   "outputs": [
    {
     "data": {
      "text/html": [
       "<div>\n",
       "<style scoped>\n",
       "    .dataframe tbody tr th:only-of-type {\n",
       "        vertical-align: middle;\n",
       "    }\n",
       "\n",
       "    .dataframe tbody tr th {\n",
       "        vertical-align: top;\n",
       "    }\n",
       "\n",
       "    .dataframe thead th {\n",
       "        text-align: right;\n",
       "    }\n",
       "</style>\n",
       "<table border=\"1\" class=\"dataframe\">\n",
       "  <thead>\n",
       "    <tr style=\"text-align: right;\">\n",
       "      <th></th>\n",
       "      <th>model</th>\n",
       "      <th>split</th>\n",
       "      <th>users_evaluated</th>\n",
       "      <th>precision@10</th>\n",
       "      <th>recall@10</th>\n",
       "      <th>ndcg@10</th>\n",
       "    </tr>\n",
       "  </thead>\n",
       "  <tbody>\n",
       "    <tr>\n",
       "      <th>0</th>\n",
       "      <td>NCF</td>\n",
       "      <td>valid</td>\n",
       "      <td>479</td>\n",
       "      <td>0.033612</td>\n",
       "      <td>0.034678</td>\n",
       "      <td>0.039639</td>\n",
       "    </tr>\n",
       "    <tr>\n",
       "      <th>1</th>\n",
       "      <td>NCF</td>\n",
       "      <td>test</td>\n",
       "      <td>479</td>\n",
       "      <td>0.031942</td>\n",
       "      <td>0.042447</td>\n",
       "      <td>0.040638</td>\n",
       "    </tr>\n",
       "    <tr>\n",
       "      <th>2</th>\n",
       "      <td>AutoEncoder</td>\n",
       "      <td>valid</td>\n",
       "      <td>479</td>\n",
       "      <td>0.027349</td>\n",
       "      <td>0.025526</td>\n",
       "      <td>0.030637</td>\n",
       "    </tr>\n",
       "    <tr>\n",
       "      <th>3</th>\n",
       "      <td>AutoEncoder</td>\n",
       "      <td>test</td>\n",
       "      <td>479</td>\n",
       "      <td>0.027766</td>\n",
       "      <td>0.024830</td>\n",
       "      <td>0.032209</td>\n",
       "    </tr>\n",
       "  </tbody>\n",
       "</table>\n",
       "</div>"
      ],
      "text/plain": [
       "         model  split  users_evaluated  precision@10  recall@10   ndcg@10\n",
       "0          NCF  valid              479      0.033612   0.034678  0.039639\n",
       "1          NCF   test              479      0.031942   0.042447  0.040638\n",
       "2  AutoEncoder  valid              479      0.027349   0.025526  0.030637\n",
       "3  AutoEncoder   test              479      0.027766   0.024830  0.032209"
      ]
     },
     "execution_count": 7,
     "metadata": {},
     "output_type": "execute_result"
    }
   ],
   "source": [
    "from functools import partial\n",
    "\n",
    "ncf_recommender = partial(\n",
    "    recommend_topk_ncf_ids,\n",
    "    ncf_model,\n",
    "    user2idx=user2idx,\n",
    "    item2idx=item2idx,\n",
    "    train_seen=train_seen,\n",
    "    device=device,\n",
    ")\n",
    "\n",
    "ae_recommender = partial(\n",
    "    recommend_topk_autoencoder_ids,\n",
    "    ae_model,\n",
    "    train_matrix=train_mat,\n",
    "    user2idx=user2idx,\n",
    "    item2idx=item2idx,\n",
    "    train_seen=train_seen,\n",
    "    device=device,\n",
    ")\n",
    "\n",
    "ranking_rows = [\n",
    "    summarize_ranking('NCF', 'valid', valid_truth, ncf_recommender),\n",
    "    summarize_ranking('NCF', 'test', test_truth, ncf_recommender),\n",
    "    summarize_ranking('AutoEncoder', 'valid', valid_truth, ae_recommender),\n",
    "    summarize_ranking('AutoEncoder', 'test', test_truth, ae_recommender),\n",
    "]\n",
    "\n",
    "ranking_df = pd.DataFrame(ranking_rows)\n",
    "ranking_df\n"
   ]
  },
  {
   "cell_type": "markdown",
   "id": "6f83e8bf",
   "metadata": {},
   "source": [
    "#### Consolidated Results"
   ]
  },
  {
   "cell_type": "code",
   "execution_count": 8,
   "id": "095f96d6",
   "metadata": {
    "execution": {
     "iopub.execute_input": "2025-10-19T23:50:31.553713Z",
     "iopub.status.busy": "2025-10-19T23:50:31.553638Z",
     "iopub.status.idle": "2025-10-19T23:50:31.558721Z",
     "shell.execute_reply": "2025-10-19T23:50:31.558336Z"
    }
   },
   "outputs": [
    {
     "data": {
      "text/html": [
       "<div>\n",
       "<style scoped>\n",
       "    .dataframe tbody tr th:only-of-type {\n",
       "        vertical-align: middle;\n",
       "    }\n",
       "\n",
       "    .dataframe tbody tr th {\n",
       "        vertical-align: top;\n",
       "    }\n",
       "\n",
       "    .dataframe thead th {\n",
       "        text-align: right;\n",
       "    }\n",
       "</style>\n",
       "<table border=\"1\" class=\"dataframe\">\n",
       "  <thead>\n",
       "    <tr style=\"text-align: right;\">\n",
       "      <th></th>\n",
       "      <th>model</th>\n",
       "      <th>split</th>\n",
       "      <th>rmse</th>\n",
       "      <th>mae</th>\n",
       "      <th>users_evaluated</th>\n",
       "      <th>precision@10</th>\n",
       "      <th>recall@10</th>\n",
       "      <th>ndcg@10</th>\n",
       "    </tr>\n",
       "  </thead>\n",
       "  <tbody>\n",
       "    <tr>\n",
       "      <th>0</th>\n",
       "      <td>AutoEncoder</td>\n",
       "      <td>test</td>\n",
       "      <td>1.743500</td>\n",
       "      <td>1.384846</td>\n",
       "      <td>479</td>\n",
       "      <td>0.027766</td>\n",
       "      <td>0.024830</td>\n",
       "      <td>0.032209</td>\n",
       "    </tr>\n",
       "    <tr>\n",
       "      <th>1</th>\n",
       "      <td>NCF</td>\n",
       "      <td>test</td>\n",
       "      <td>0.894004</td>\n",
       "      <td>0.692092</td>\n",
       "      <td>479</td>\n",
       "      <td>0.031942</td>\n",
       "      <td>0.042447</td>\n",
       "      <td>0.040638</td>\n",
       "    </tr>\n",
       "    <tr>\n",
       "      <th>2</th>\n",
       "      <td>AutoEncoder</td>\n",
       "      <td>valid</td>\n",
       "      <td>1.740214</td>\n",
       "      <td>1.403107</td>\n",
       "      <td>479</td>\n",
       "      <td>0.027349</td>\n",
       "      <td>0.025526</td>\n",
       "      <td>0.030637</td>\n",
       "    </tr>\n",
       "    <tr>\n",
       "      <th>3</th>\n",
       "      <td>NCF</td>\n",
       "      <td>valid</td>\n",
       "      <td>0.854136</td>\n",
       "      <td>0.662013</td>\n",
       "      <td>479</td>\n",
       "      <td>0.033612</td>\n",
       "      <td>0.034678</td>\n",
       "      <td>0.039639</td>\n",
       "    </tr>\n",
       "  </tbody>\n",
       "</table>\n",
       "</div>"
      ],
      "text/plain": [
       "         model  split      rmse       mae  users_evaluated  precision@10  \\\n",
       "0  AutoEncoder   test  1.743500  1.384846              479      0.027766   \n",
       "1          NCF   test  0.894004  0.692092              479      0.031942   \n",
       "2  AutoEncoder  valid  1.740214  1.403107              479      0.027349   \n",
       "3          NCF  valid  0.854136  0.662013              479      0.033612   \n",
       "\n",
       "   recall@10   ndcg@10  \n",
       "0   0.024830  0.032209  \n",
       "1   0.042447  0.040638  \n",
       "2   0.025526  0.030637  \n",
       "3   0.034678  0.039639  "
      ]
     },
     "execution_count": 8,
     "metadata": {},
     "output_type": "execute_result"
    }
   ],
   "source": [
    "combined = ratings_df.merge(ranking_df, on=['model', 'split'], how='outer')\n",
    "combined.sort_values(['split', 'model']).reset_index(drop=True)"
   ]
  },
  {
   "cell_type": "code",
   "execution_count": 9,
   "id": "37aa7801",
   "metadata": {
    "execution": {
     "iopub.execute_input": "2025-10-19T23:50:31.559734Z",
     "iopub.status.busy": "2025-10-19T23:50:31.559660Z",
     "iopub.status.idle": "2025-10-19T23:50:31.562215Z",
     "shell.execute_reply": "2025-10-19T23:50:31.561859Z"
    }
   },
   "outputs": [
    {
     "name": "stdout",
     "output_type": "stream",
     "text": [
      "Saved metrics to /Users/alanyu/Documents/IIT/ITM/ITMD-524-Applied AI and Deep Learning/finalproject/MovieLens-MCRS/reports/results.csv\n"
     ]
    }
   ],
   "source": [
    "combined.to_csv(REPORTS / 'results.csv', index=False)\n",
    "print('Saved metrics to', REPORTS / 'results.csv')"
   ]
  },
  {
   "cell_type": "markdown",
   "id": "18af6d23",
   "metadata": {},
   "source": [
    "#### Sample Recommendations"
   ]
  },
  {
   "cell_type": "code",
   "execution_count": 10,
   "id": "76988073",
   "metadata": {
    "execution": {
     "iopub.execute_input": "2025-10-19T23:50:31.563296Z",
     "iopub.status.busy": "2025-10-19T23:50:31.563228Z",
     "iopub.status.idle": "2025-10-19T23:50:31.567062Z",
     "shell.execute_reply": "2025-10-19T23:50:31.566733Z"
    }
   },
   "outputs": [
    {
     "name": "stdout",
     "output_type": "stream",
     "text": [
      "Sample user: 362\n",
      "NCF top-10:\n",
      "[750, 1199, 912, 7361, 1276, 904, 1201, 1197, 1136, 2324]\n",
      "AutoEncoder top-10:\n",
      "[595, 5502, 4973, 4308, 5989, 6378, 4027, 5299, 5418, 2700]\n"
     ]
    }
   ],
   "source": [
    "sample_user = int(train_df['userId'].sample(1, random_state=7).iloc[0])\n",
    "print('Sample user:', sample_user)\n",
    "print('NCF top-10:')\n",
    "print(ncf_recommender(sample_user, k=10))\n",
    "print('AutoEncoder top-10:')\n",
    "print(ae_recommender(sample_user, k=10))\n"
   ]
  }
 ],
 "metadata": {
  "kernelspec": {
   "display_name": "movielens-mcrs",
   "language": "python",
   "name": "python3"
  },
  "language_info": {
   "codemirror_mode": {
    "name": "ipython",
    "version": 3
   },
   "file_extension": ".py",
   "mimetype": "text/x-python",
   "name": "python",
   "nbconvert_exporter": "python",
   "pygments_lexer": "ipython3",
   "version": "3.10.19"
  }
 },
 "nbformat": 4,
 "nbformat_minor": 5
}
