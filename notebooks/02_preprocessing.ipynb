{
 "cells": [
  {
   "cell_type": "markdown",
   "id": "e09599ca",
   "metadata": {},
   "source": [
    "### 02 - Preprocessing\n",
    "Prepare cleaned data, encode genres, and create train/valid/test splits."
   ]
  },
  {
   "cell_type": "code",
   "execution_count": 14,
   "id": "2f99fb3c",
   "metadata": {},
   "outputs": [
    {
     "name": "stdout",
     "output_type": "stream",
     "text": [
      "Base: /Users/alanyu/Documents/IIT/ITM/ITMD-524-Applied AI and Deep Learning/finalproject/MovieLens-MCRS\n",
      "RAW exists: True PROC: True\n"
     ]
    }
   ],
   "source": [
    "import os, sys\n",
    "import pandas as pd\n",
    "import numpy as np\n",
    "from pathlib import Path\n",
    "BASE = Path.cwd().parent\n",
    "sys.path.append(str(BASE / 'src'))\n",
    "from data_loader import (\n",
    "    load_ratings, load_movies, merge_ratings_movies,\n",
    "    filter_cold_start, encode_genres_multihot,\n",
    "    train_valid_test_split_by_time, save_dataframe\n",
    ")\n",
    "\n",
    "RAW = BASE / 'data' / 'raw'\n",
    "PROC = BASE / 'data' / 'processed'\n",
    "print('Base:', BASE)\n",
    "print('RAW exists:', RAW.exists(), 'PROC:', PROC.exists())"
   ]
  },
  {
   "cell_type": "markdown",
   "id": "9cb090c6",
   "metadata": {},
   "source": [
    "### Load raw csv"
   ]
  },
  {
   "cell_type": "code",
   "execution_count": 10,
   "id": "3fd2d9cb",
   "metadata": {},
   "outputs": [
    {
     "name": "stderr",
     "output_type": "stream",
     "text": [
      "2025-10-18 02:32:14,668 | INFO | data_loader | Loading ratings from /Users/alanyu/Documents/IIT/ITM/ITMD-524-Applied AI and Deep Learning/finalproject/MovieLens-MCRS/data/raw/ratings.csv\n",
      "2025-10-18 02:32:14,705 | INFO | data_loader | Loading movies from /Users/alanyu/Documents/IIT/ITM/ITMD-524-Applied AI and Deep Learning/finalproject/MovieLens-MCRS/data/raw/movies.csv\n"
     ]
    },
    {
     "data": {
      "text/plain": [
       "(   userId  movieId  rating  timestamp            datetime\n",
       " 0       1        1     4.0  964982703 2000-07-30 18:45:03\n",
       " 1       1        3     4.0  964981247 2000-07-30 18:20:47\n",
       " 2       1        6     4.0  964982224 2000-07-30 18:37:04\n",
       " 3       1       47     5.0  964983815 2000-07-30 19:03:35\n",
       " 4       1       50     5.0  964982931 2000-07-30 18:48:51,\n",
       "    movieId                               title  \\\n",
       " 0        1                    Toy Story (1995)   \n",
       " 1        2                      Jumanji (1995)   \n",
       " 2        3             Grumpier Old Men (1995)   \n",
       " 3        4            Waiting to Exhale (1995)   \n",
       " 4        5  Father of the Bride Part II (1995)   \n",
       " \n",
       "                                         genres  \n",
       " 0  Adventure|Animation|Children|Comedy|Fantasy  \n",
       " 1                   Adventure|Children|Fantasy  \n",
       " 2                               Comedy|Romance  \n",
       " 3                         Comedy|Drama|Romance  \n",
       " 4                                       Comedy  ,\n",
       " (100836, 5),\n",
       " (9742, 3))"
      ]
     },
     "execution_count": 10,
     "metadata": {},
     "output_type": "execute_result"
    }
   ],
   "source": [
    "# Define data file paths\n",
    "ratings_path = RAW / 'ratings.csv'\n",
    "movies_path  = RAW / 'movies.csv'\n",
    "assert ratings_path.exists() and movies_path.exists(), 'Place rating.csv and movie.csv in data/raw/'\n",
    "\n",
    "ratings = load_ratings(str(ratings_path))\n",
    "movies  = load_movies(str(movies_path))\n",
    "ratings.head(), movies.head(), ratings.shape, movies.shape"
   ]
  },
  {
   "cell_type": "markdown",
   "id": "c748c4a1",
   "metadata": {},
   "source": [
    "### Merge & Basic Filtering"
   ]
  },
  {
   "cell_type": "code",
   "execution_count": 12,
   "id": "8d58d74f",
   "metadata": {},
   "outputs": [
    {
     "name": "stderr",
     "output_type": "stream",
     "text": [
      "2025-10-18 02:37:24,881 | INFO | data_loader | Merging ratings with movies\n",
      "2025-10-18 02:37:24,898 | INFO | data_loader | Filtering cold-start users (<20) and movies (<50)\n",
      "2025-10-18 02:37:24,918 | INFO | data_loader | Remaining: 479 users, 426 movies, 38654 rows\n"
     ]
    },
    {
     "name": "stdout",
     "output_type": "stream",
     "text": [
      "Before filter: 610 users, 9724 movies, 100836 rows\n"
     ]
    },
    {
     "data": {
      "text/plain": [
       "(   userId  movieId  rating  timestamp            datetime  \\\n",
       " 0       1        1     4.0  964982703 2000-07-30 18:45:03   \n",
       " 2       1        6     4.0  964982224 2000-07-30 18:37:04   \n",
       " 3       1       47     5.0  964983815 2000-07-30 19:03:35   \n",
       " 4       1       50     5.0  964982931 2000-07-30 18:48:51   \n",
       " 5       1       70     3.0  964982400 2000-07-30 18:40:00   \n",
       " \n",
       "                          title                                       genres  \n",
       " 0             Toy Story (1995)  Adventure|Animation|Children|Comedy|Fantasy  \n",
       " 2                  Heat (1995)                        Action|Crime|Thriller  \n",
       " 3  Seven (a.k.a. Se7en) (1995)                             Mystery|Thriller  \n",
       " 4   Usual Suspects, The (1995)                       Crime|Mystery|Thriller  \n",
       " 5   From Dusk Till Dawn (1996)                Action|Comedy|Horror|Thriller  ,\n",
       " (38654, 7))"
      ]
     },
     "execution_count": 12,
     "metadata": {},
     "output_type": "execute_result"
    }
   ],
   "source": [
    "# Merge & Basic Filtering\n",
    "df = merge_ratings_movies(ratings, movies)\n",
    "print('Before filter:', df['userId'].nunique(), 'users,', df['movieId'].nunique(), 'movies,', len(df), 'rows')\n",
    "\n",
    "MIN_USER = 20\n",
    "MIN_MOVIE = 50\n",
    "df_f = filter_cold_start(df, min_user_ratings=MIN_USER, min_movie_ratings=MIN_MOVIE)\n",
    "df_f.head(), df_f.shape\n"
   ]
  },
  {
   "cell_type": "markdown",
   "id": "a83f9dc2",
   "metadata": {},
   "source": [
    "### Encode Genres"
   ]
  },
  {
   "cell_type": "code",
   "execution_count": 15,
   "id": "972c65a9",
   "metadata": {},
   "outputs": [
    {
     "name": "stdout",
     "output_type": "stream",
     "text": [
      "Genre columns: 19\n"
     ]
    },
    {
     "data": {
      "text/html": [
       "<div>\n",
       "<style scoped>\n",
       "    .dataframe tbody tr th:only-of-type {\n",
       "        vertical-align: middle;\n",
       "    }\n",
       "\n",
       "    .dataframe tbody tr th {\n",
       "        vertical-align: top;\n",
       "    }\n",
       "\n",
       "    .dataframe thead th {\n",
       "        text-align: right;\n",
       "    }\n",
       "</style>\n",
       "<table border=\"1\" class=\"dataframe\">\n",
       "  <thead>\n",
       "    <tr style=\"text-align: right;\">\n",
       "      <th></th>\n",
       "      <th>movieId</th>\n",
       "      <th>title</th>\n",
       "      <th>genres</th>\n",
       "      <th>genre_Action</th>\n",
       "      <th>genre_Adventure</th>\n",
       "      <th>genre_Animation</th>\n",
       "      <th>genre_Children</th>\n",
       "      <th>genre_Comedy</th>\n",
       "      <th>genre_Crime</th>\n",
       "      <th>genre_Documentary</th>\n",
       "      <th>...</th>\n",
       "      <th>genre_Film-Noir</th>\n",
       "      <th>genre_Horror</th>\n",
       "      <th>genre_IMAX</th>\n",
       "      <th>genre_Musical</th>\n",
       "      <th>genre_Mystery</th>\n",
       "      <th>genre_Romance</th>\n",
       "      <th>genre_Sci-Fi</th>\n",
       "      <th>genre_Thriller</th>\n",
       "      <th>genre_War</th>\n",
       "      <th>genre_Western</th>\n",
       "    </tr>\n",
       "  </thead>\n",
       "  <tbody>\n",
       "    <tr>\n",
       "      <th>0</th>\n",
       "      <td>1</td>\n",
       "      <td>Toy Story (1995)</td>\n",
       "      <td>Adventure|Animation|Children|Comedy|Fantasy</td>\n",
       "      <td>0</td>\n",
       "      <td>1</td>\n",
       "      <td>1</td>\n",
       "      <td>1</td>\n",
       "      <td>1</td>\n",
       "      <td>0</td>\n",
       "      <td>0</td>\n",
       "      <td>...</td>\n",
       "      <td>0</td>\n",
       "      <td>0</td>\n",
       "      <td>0</td>\n",
       "      <td>0</td>\n",
       "      <td>0</td>\n",
       "      <td>0</td>\n",
       "      <td>0</td>\n",
       "      <td>0</td>\n",
       "      <td>0</td>\n",
       "      <td>0</td>\n",
       "    </tr>\n",
       "    <tr>\n",
       "      <th>1</th>\n",
       "      <td>2</td>\n",
       "      <td>Jumanji (1995)</td>\n",
       "      <td>Adventure|Children|Fantasy</td>\n",
       "      <td>0</td>\n",
       "      <td>1</td>\n",
       "      <td>0</td>\n",
       "      <td>1</td>\n",
       "      <td>0</td>\n",
       "      <td>0</td>\n",
       "      <td>0</td>\n",
       "      <td>...</td>\n",
       "      <td>0</td>\n",
       "      <td>0</td>\n",
       "      <td>0</td>\n",
       "      <td>0</td>\n",
       "      <td>0</td>\n",
       "      <td>0</td>\n",
       "      <td>0</td>\n",
       "      <td>0</td>\n",
       "      <td>0</td>\n",
       "      <td>0</td>\n",
       "    </tr>\n",
       "    <tr>\n",
       "      <th>2</th>\n",
       "      <td>3</td>\n",
       "      <td>Grumpier Old Men (1995)</td>\n",
       "      <td>Comedy|Romance</td>\n",
       "      <td>0</td>\n",
       "      <td>0</td>\n",
       "      <td>0</td>\n",
       "      <td>0</td>\n",
       "      <td>1</td>\n",
       "      <td>0</td>\n",
       "      <td>0</td>\n",
       "      <td>...</td>\n",
       "      <td>0</td>\n",
       "      <td>0</td>\n",
       "      <td>0</td>\n",
       "      <td>0</td>\n",
       "      <td>0</td>\n",
       "      <td>1</td>\n",
       "      <td>0</td>\n",
       "      <td>0</td>\n",
       "      <td>0</td>\n",
       "      <td>0</td>\n",
       "    </tr>\n",
       "    <tr>\n",
       "      <th>3</th>\n",
       "      <td>4</td>\n",
       "      <td>Waiting to Exhale (1995)</td>\n",
       "      <td>Comedy|Drama|Romance</td>\n",
       "      <td>0</td>\n",
       "      <td>0</td>\n",
       "      <td>0</td>\n",
       "      <td>0</td>\n",
       "      <td>1</td>\n",
       "      <td>0</td>\n",
       "      <td>0</td>\n",
       "      <td>...</td>\n",
       "      <td>0</td>\n",
       "      <td>0</td>\n",
       "      <td>0</td>\n",
       "      <td>0</td>\n",
       "      <td>0</td>\n",
       "      <td>1</td>\n",
       "      <td>0</td>\n",
       "      <td>0</td>\n",
       "      <td>0</td>\n",
       "      <td>0</td>\n",
       "    </tr>\n",
       "    <tr>\n",
       "      <th>4</th>\n",
       "      <td>5</td>\n",
       "      <td>Father of the Bride Part II (1995)</td>\n",
       "      <td>Comedy</td>\n",
       "      <td>0</td>\n",
       "      <td>0</td>\n",
       "      <td>0</td>\n",
       "      <td>0</td>\n",
       "      <td>1</td>\n",
       "      <td>0</td>\n",
       "      <td>0</td>\n",
       "      <td>...</td>\n",
       "      <td>0</td>\n",
       "      <td>0</td>\n",
       "      <td>0</td>\n",
       "      <td>0</td>\n",
       "      <td>0</td>\n",
       "      <td>0</td>\n",
       "      <td>0</td>\n",
       "      <td>0</td>\n",
       "      <td>0</td>\n",
       "      <td>0</td>\n",
       "    </tr>\n",
       "  </tbody>\n",
       "</table>\n",
       "<p>5 rows × 22 columns</p>\n",
       "</div>"
      ],
      "text/plain": [
       "   movieId                               title  \\\n",
       "0        1                    Toy Story (1995)   \n",
       "1        2                      Jumanji (1995)   \n",
       "2        3             Grumpier Old Men (1995)   \n",
       "3        4            Waiting to Exhale (1995)   \n",
       "4        5  Father of the Bride Part II (1995)   \n",
       "\n",
       "                                        genres  genre_Action  genre_Adventure  \\\n",
       "0  Adventure|Animation|Children|Comedy|Fantasy             0                1   \n",
       "1                   Adventure|Children|Fantasy             0                1   \n",
       "2                               Comedy|Romance             0                0   \n",
       "3                         Comedy|Drama|Romance             0                0   \n",
       "4                                       Comedy             0                0   \n",
       "\n",
       "   genre_Animation  genre_Children  genre_Comedy  genre_Crime  \\\n",
       "0                1               1             1            0   \n",
       "1                0               1             0            0   \n",
       "2                0               0             1            0   \n",
       "3                0               0             1            0   \n",
       "4                0               0             1            0   \n",
       "\n",
       "   genre_Documentary  ...  genre_Film-Noir  genre_Horror  genre_IMAX  \\\n",
       "0                  0  ...                0             0           0   \n",
       "1                  0  ...                0             0           0   \n",
       "2                  0  ...                0             0           0   \n",
       "3                  0  ...                0             0           0   \n",
       "4                  0  ...                0             0           0   \n",
       "\n",
       "   genre_Musical  genre_Mystery  genre_Romance  genre_Sci-Fi  genre_Thriller  \\\n",
       "0              0              0              0             0               0   \n",
       "1              0              0              0             0               0   \n",
       "2              0              0              1             0               0   \n",
       "3              0              0              1             0               0   \n",
       "4              0              0              0             0               0   \n",
       "\n",
       "   genre_War  genre_Western  \n",
       "0          0              0  \n",
       "1          0              0  \n",
       "2          0              0  \n",
       "3          0              0  \n",
       "4          0              0  \n",
       "\n",
       "[5 rows x 22 columns]"
      ]
     },
     "execution_count": 15,
     "metadata": {},
     "output_type": "execute_result"
    }
   ],
   "source": [
    "movies_enriched, genre_cols = encode_genres_multihot(movies)\n",
    "print('Genre columns:', len(genre_cols))\n",
    "movies_enriched.head()"
   ]
  },
  {
   "cell_type": "markdown",
   "id": "17f2eeff",
   "metadata": {},
   "source": [
    "### Train/Valid/Test Split"
   ]
  },
  {
   "cell_type": "code",
   "execution_count": null,
   "id": "90984648",
   "metadata": {},
   "outputs": [
    {
     "name": "stderr",
     "output_type": "stream",
     "text": [
      "2025-10-18 02:48:05,973 | INFO | data_loader | Performing per-user chronological split\n",
      "2025-10-18 02:48:06,078 | INFO | data_loader | Split sizes -> train:31316 valid:3669 test:3669\n"
     ]
    },
    {
     "name": "stdout",
     "output_type": "stream",
     "text": [
      "train (31316, 7) users: 479 movies: 426\n",
      "valid (3669, 7) users: 479 movies: 426\n",
      "test (3669, 7) users: 479 movies: 426\n"
     ]
    }
   ],
   "source": [
    "# Train/Valid/Test Split\n",
    "train, valid, test = train_valid_test_by_user = train_valid_test_split_by_time(\n",
    "    df_f, valid_ratio=0.1, test_ratio=0.1, by_user=True\n",
    ")\n",
    "# Summary of splits\n",
    "for name, part in [('train',train), ('valid',valid), ('test',test)]:\n",
    "    print(name, part.shape, 'users:', part['userId'].nunique(), 'movies:', part['movieId'].nunique())"
   ]
  },
  {
   "cell_type": "markdown",
   "id": "59db28c1",
   "metadata": {},
   "source": [
    "### Save Processed Files"
   ]
  },
  {
   "cell_type": "code",
   "execution_count": 17,
   "id": "d63b6f0c",
   "metadata": {},
   "outputs": [
    {
     "name": "stderr",
     "output_type": "stream",
     "text": [
      "2025-10-18 02:49:01,324 | INFO | data_loader | Saved: /Users/alanyu/Documents/IIT/ITM/ITMD-524-Applied AI and Deep Learning/finalproject/MovieLens-MCRS/data/processed/ratings_train.csv\n",
      "2025-10-18 02:49:01,336 | INFO | data_loader | Saved: /Users/alanyu/Documents/IIT/ITM/ITMD-524-Applied AI and Deep Learning/finalproject/MovieLens-MCRS/data/processed/ratings_valid.csv\n",
      "2025-10-18 02:49:01,346 | INFO | data_loader | Saved: /Users/alanyu/Documents/IIT/ITM/ITMD-524-Applied AI and Deep Learning/finalproject/MovieLens-MCRS/data/processed/ratings_test.csv\n",
      "2025-10-18 02:49:01,367 | INFO | data_loader | Saved: /Users/alanyu/Documents/IIT/ITM/ITMD-524-Applied AI and Deep Learning/finalproject/MovieLens-MCRS/data/processed/movies_enriched.csv\n"
     ]
    },
    {
     "name": "stdout",
     "output_type": "stream",
     "text": [
      "Saved processed datasets in /Users/alanyu/Documents/IIT/ITM/ITMD-524-Applied AI and Deep Learning/finalproject/MovieLens-MCRS/data/processed\n"
     ]
    }
   ],
   "source": [
    "# Save Processed Files\n",
    "save_dataframe(train, str(PROC / 'ratings_train.csv'))\n",
    "save_dataframe(valid, str(PROC / 'ratings_valid.csv'))\n",
    "save_dataframe(test,  str(PROC / 'ratings_test.csv'))\n",
    "save_dataframe(movies_enriched, str(PROC / 'movies_enriched.csv'))\n",
    "print('Saved processed datasets in', PROC)"
   ]
  }
 ],
 "metadata": {
  "kernelspec": {
   "display_name": "movielens-mcrs",
   "language": "python",
   "name": "python3"
  },
  "language_info": {
   "codemirror_mode": {
    "name": "ipython",
    "version": 3
   },
   "file_extension": ".py",
   "mimetype": "text/x-python",
   "name": "python",
   "nbconvert_exporter": "python",
   "pygments_lexer": "ipython3",
   "version": "3.10.19"
  }
 },
 "nbformat": 4,
 "nbformat_minor": 5
}
